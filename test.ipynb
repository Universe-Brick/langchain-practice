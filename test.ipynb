{
 "cells": [
  {
   "cell_type": "code",
   "execution_count": 1,
   "metadata": {},
   "outputs": [],
   "source": [
    "from langchain_community.document_loaders import CSVLoader\n",
    "from langchain_text_splitters import CharacterTextSplitter\n",
    "from langchain_openai import OpenAIEmbeddings \n",
    "from langchain_community.vectorstores import FAISS\n",
    "from langchain_openai import ChatOpenAI \n",
    "from langchain.chains import ConversationalRetrievalChain\n"
   ]
  },
  {
   "cell_type": "code",
   "execution_count": 4,
   "metadata": {},
   "outputs": [],
   "source": [
    "file_paths = [\n",
    "    \"/Users/linchihhsien/Documents/Arduino/爬蟲/langchain-practice/Courses_data.csv\",\n",
    "    \"/Users/linchihhsien/Documents/Arduino/爬蟲/langchain-practice/CourseScore.csv\",\n",
    "    \"/Users/linchihhsien/Documents/Arduino/爬蟲/langchain-practice/Syllabus_Data.csv\"\n",
    "]\n",
    "\n",
    "all_documents = []\n",
    "\n",
    "for file_path in file_paths:\n",
    "    loader = CSVLoader(file_path=file_path)\n",
    "    documents = loader.load()\n",
    "    all_documents.extend(documents)  \n",
    "\n",
    "text_splitter = CharacterTextSplitter(chunk_size=1000, chunk_overlap=0)\n",
    "\n",
    "docs = text_splitter.split_documents(all_documents)\n",
    "\n",
    "embeddings_model = OpenAIEmbeddings(openai_api_key='input key')\n",
    "\n",
    "vectorstore = FAISS.from_documents(all_documents, embeddings_model)\n",
    "\n",
    "vectorstore.save_local(\"faiss_index\")\n",
    "\n",
    "\n",
    "\n",
    "new_db = FAISS.load_local(\"faiss_index\", embeddings_model, allow_dangerous_deserialization=True)\n"
   ]
  },
  {
   "cell_type": "code",
   "execution_count": 6,
   "metadata": {},
   "outputs": [
    {
     "name": "stdout",
     "output_type": "stream",
     "text": [
      "{'question': '請根據資料,列出甜度超過6的課程', 'chat_history': [], 'answer': '甜度超過6的課程有：\\n1. A9-304 應用化學與實驗 (甜度: 6)\\n2. A9-305 應用化學與實驗 (甜度: 6)\\n3. A9-114 應用統計 (甜度: 7)'}\n"
     ]
    }
   ],
   "source": [
    "llm_model = ChatOpenAI(openai_api_key='input key') \n",
    "\n",
    "#chain = ConversationalRetrievalChain.from_llm(llm=llm_model, retriever=new_db.as_retriever(search_kwargs={\"k\": 3, \"fetch_k\": 10}, search_type=\"mmr\"))\n",
    "chain = ConversationalRetrievalChain.from_llm(llm=llm_model, retriever=new_db.as_retriever())\n",
    "\n",
    "query = \"請根據資料,列出甜度超過6的課程\" \n",
    "response = chain.invoke({\"question\": query, \"chat_history\": []}) \n",
    "print(response)\n",
    " \n"
   ]
  },
  {
   "cell_type": "code",
   "execution_count": null,
   "metadata": {},
   "outputs": [],
   "source": [
    "# 定義你的提示模板\n",
    "prompt = \"\"\"\n",
    "課程背景：管理學院中所有系所所開設課程中，出席情況通常會在一定的比例下影響總分。\n",
    "問題：工資管系統計軟體與繪圖這門課中出席分數佔比多少？\n",
    "\"\"\""
   ]
  },
  {
   "cell_type": "code",
   "execution_count": null,
   "metadata": {},
   "outputs": [
    {
     "name": "stdout",
     "output_type": "stream",
     "text": [
      "保險數學這門課中出席分數佔比為10%。\n",
      "page_content='人工智慧導論\\n方法\\t百分比%\\n作業 Assignments\\t30\\n期中考 Midterm Exam\\t30\\n個人書面報告 Projects\\t30\\n出席 Participation\\t10\\n工資系Industrial and Information Management\\n方法\\t百分比%\\n講授 Lecture\\t70\\n討論 Discussion\\t20\\n報告 Presentation\\t10\\n進度說明 Progress Description\\n1\\tenvironment setting\\n2\\tdata type & operator introduction\\n3\\tif/else & loop\\n4\\tlist/tuple introduction\\n5\\tdict/set introduction\\n6\\tfunction & try/except\\n7\\tclass/objects\\n8\\tregular expression\\n9\\tmodule introduction– numpy\\n10\\tmodule introduction - pandas\\n11\\tmodule introduction - sklearn\\n12\\tmodule introduction– matplot & seaborn\\n13\\tKeras-CNN(mnist)\\n課程概述 Course Description\\n       Driven by advances in computer power, availability of large data, and learning algorithms, Artificial Intelligence (AI) has now achieves the impressive successes and become an important science in academia and industry as well. AI focuses on developing intelligent systems to help people to solve various complicated decision-making problems. This course will introduce the foundational concepts and underlying techniques of AI with an emphasize on developing AI applications intelligent using some  programming languages such as Java or Python.Driven by advances in computer power, availability of large data, and learning algorithms, Artificial Intelligence (AI) has now achieves the impressive successes and become an important science in academia and industry as well. AI focuses on developing intelligent systems to help people to solve various complicated decision-making problems. This course will introduce the foundational concepts and underlying techniques of AI with an emphasize on developing AI applications intelligent using some  programming languages such as Java or Python.'\n",
      "page_content='機器學習\\n方法\\t百分比%\\n作業 Assignments\\t60\\n個人口頭報告 Presentations\\t10\\n個人書面報告 Projects\\t30\\n統計系Statistics\\n方法\\t百分比%\\n講授 Lecture\\t80\\n討論 Discussion\\t10\\n報告 Presentation\\t10\\n進度說明 Progress Description\\n1\\tIntroduction & Statistical Learning\\n2\\tLinear Regression\\n3\\tLinear Regression\\n4\\tClassification\\n5\\tClassification\\n6\\tResampling Methods\\n7\\tResampling Methods\\n8\\tLinear Model Selection and Regularization\\n9\\tLinear Model Selection and Regularization\\n10\\tMoving Beyond Linearity\\n11\\tMoving Beyond Linearity\\n12\\tTree-Based Methods\\n13\\tTree-Based Methods\\n14\\tTree-Based Methods\\n15\\tDeep Learning\\n16\\tDeep Learning\\n17\\tUnsupervised Learning\\n18\\tUnsupervised Learning\\n課程概述 Course Description\\n       機器學習是一門新近的熱門研究領域，主要探討如何在高維度、大量或複雜資料中，使用統計方法來發展不同的演算法來發掘資料中所隱藏的有用資訊。Machine Learning is a popular research area lately. The main goal is to investigate the high dimensional, large amount or complex data, and use statistical methods to develop the useful algorithm to discover information within data.'\n",
      "page_content='計算機概論\\n方法\\t百分比%\\n其他 others:教師課堂公佈\\t100\\n其他 others:教師課堂公佈\\t100\\n統計系Statistics\\n方法\\t百分比%\\n講授 Lecture\\t40\\n其他:期中期末考試 others\\t20\\n其他:作業 others\\t20\\n其他:上機程式 others\\t20\\n進度說明 Progress Description\\n1\\t簡介計算機與資訊網路\\n2\\t各種電腦裝置\\n3\\t資料儲存(1)\\n4\\t資料儲存(2)\\n5\\t資料處理(1)\\n6\\t資料處理(2)\\n7\\t作業系統\\n8\\t期中考\\n9\\t檔案系統(2)\\n10\\t網路通訊與網際網路\\n11\\t程式語言簡介\\n12\\tPython: Expressions\\n13\\tPython: Conditionals\\n14\\tPython: Functions\\n15\\tPython: Iterations\\n16\\tPython: Packages\\n17\\t期末考\\n18\\t期末專題報告\\n課程概述 Course Description\\n       認識資料處理結構、功能、電腦分類及比較、電腦發展史、數學系統、資料表示法、各種媒體介紹、各種輸出力機器介紹、記憶裝置及資料結構、各種語言介紹、程式流程圖及BASIC程式學習。Teaching and training university students with basic programming skills'\n",
      "page_content='計算機概論\\n方法\\t百分比%\\n出席 Participation\\t10\\n作業 Assignments\\t10\\n期中考 Midterm Exam\\t25\\n期末考 Term exam\\t25\\n小組報告 Group Projects\\t30\\n工資系Industrial and Information Management\\n方法\\t百分比%\\n講授 Lecture\\t50\\n實作 Workshop\\t25\\n報告 Presentation\\t25\\n進度說明 Progress Description\\n1\\tClass introduction- Basic computer concepts and basic C++\\n2\\tIntroduction to C++ Programming; Being a Digital Citizen\\n3\\tControl Statements; The Internet\\n4\\tControl Statements; Evaluating Hardware\\n5\\tControl Statements; Evaluating Hardware (mini project)\\n6\\tFunction; Evaluating Hardware (mini project)\\n7\\tFunction; Programs and Apps\\n8\\tFunction; Digital Security, Ethics, and Privacy\\n9\\tMidterm Exam\\n10\\tRecursion; Input and Output\\n11\\tArrays and Vectors; Digital Storage\\n12\\tArrays and Vectors; Operating Systems\\n13\\tArrays and Vectors; Networks and Network Devices\\n14\\tPointer; Databases\\n15\\tPointer; Technology Careers\\n16\\tFinal Projects\\n17\\tFinal Projects\\n18\\tFinal Exam\\n課程概述 Course Description\\n       Introduce general concepts of computer and information technologies and essential programming skills using C++. Various concepts including hardware, software, input/output, the Internet/WWW, and networks will be covered extensively. In addition, the students will be trained how to write basic computer programs in C++ with variables, control flows, functions, and pointers. Introduce general concepts of computer and information technologies and essential programming skills using C++. Various concepts including hardware, software, input/output, the Internet/WWW, and networks will be covered extensively. In addition, the students will be trained how to write basic computer programs in C++ with variables, control flows, functions, and pointers.'\n"
     ]
    }
   ],
   "source": []
  },
  {
   "cell_type": "code",
   "execution_count": 38,
   "metadata": {},
   "outputs": [
    {
     "name": "stdout",
     "output_type": "stream",
     "text": [
      "{'question': '課程甜度8的所有課程', 'prompt': '請根據資料列出，課程甜度8的所有課程', 'chat_history': [], 'answer': '課程名稱: A9-014 電影藝術與生活\\n課程名稱: A9-005 戲劇與電影'}\n"
     ]
    }
   ],
   "source": [
    "# 定義你的提示模板\n",
    "prompt = \"\"\"The following are excerpts from conversations with an AI\n",
    "assistant. The assistant is typically concise , producing\n",
    "accurate responses to the users questions. Here are some\n",
    "examples: \n",
    "\n",
    "User: 工資管系統計軟體與繪圖這門課中出席分數佔比多少？\n",
    "AI: 工資管系統計軟體與繪圖這門課中出席分數佔比為20%\n",
    "\n",
    "User: 工資管系計算機該論這門課中出席分數佔比多少？\n",
    "AI: 因為在我的資料庫中工資管系計算機該論這門課的課程大綱中並沒有描述出席分數的比重因此我無法回答你\n",
    "\n",
    "User: 生物統計這門課中出席分數佔比多少？\n",
    "課程背景：生物統計這門課中不包含出席分數\n",
    "AI: 這門課程中出席分數並不會影響總分\n",
    "\n",
    "User: 告訴我課程甜度超過8的課程?\n",
    "AI: 課程甜度為9的是戲劇與電影以及社會電影 課程甜度為10的有3堂\n",
    "\n",
    "\n",
    "User: 保險數學這門課中出席分數佔比多少？\n",
    "AI: \"\"\"\n",
    "\n",
    "llm_model = ChatOpenAI(openai_api_key='input key') \n",
    "chain = ConversationalRetrievalChain.from_llm(llm=llm_model, retriever=new_db.as_retriever())\n",
    "\n",
    "# 設置查詢和 prompt\n",
    "query = \"課程甜度8的所有課程\"\n",
    "prompt = \"請根據資料列出，\" + query\n",
    "\n",
    "# 調用鏈並顯示回應\n",
    "response = chain.invoke({\"question\": query, \"prompt\": prompt, \"chat_history\": []})\n",
    "print(response)"
   ]
  }
 ],
 "metadata": {
  "kernelspec": {
   "display_name": "linchihhsien-pejDPtXM",
   "language": "python",
   "name": "python3"
  },
  "language_info": {
   "codemirror_mode": {
    "name": "ipython",
    "version": 3
   },
   "file_extension": ".py",
   "mimetype": "text/x-python",
   "name": "python",
   "nbconvert_exporter": "python",
   "pygments_lexer": "ipython3",
   "version": "3.11.3"
  }
 },
 "nbformat": 4,
 "nbformat_minor": 2
}
