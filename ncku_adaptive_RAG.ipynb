{
 "cells": [
  {
   "cell_type": "markdown",
   "metadata": {},
   "source": [
    "### Environment"
   ]
  },
  {
   "cell_type": "markdown",
   "metadata": {},
   "source": [
    "#### Langsmith Tracing"
   ]
  },
  {
   "cell_type": "code",
   "execution_count": 12,
   "metadata": {},
   "outputs": [],
   "source": [
    "from langsmith import Client\n",
    "client = Client()"
   ]
  },
  {
   "cell_type": "code",
   "execution_count": 13,
   "metadata": {},
   "outputs": [],
   "source": [
    "import os\n",
    "import getpass\n",
    "from dotenv import load_dotenv\n",
    "load_dotenv()\n",
    "\n",
    "# 載入 api_key 使用\n",
    "def _set_env(var: str):\n",
    "    if not os.getenv(var):\n",
    "        os.environ[var] = getpass.getpass(f\"{var}: \")\n",
    "\n",
    "\n",
    "_set_env(\"CHATGPT_API_KEY\")\n",
    "_set_env(\"TAVILY_API_KEY\")\n",
    "OPENAI_API_KEY = os.getenv('CHATGPT_API_KEY')\n",
    "TAVILY_API_KEY = os.getenv('TAVILY_API_KEY')"
   ]
  },
  {
   "cell_type": "markdown",
   "metadata": {},
   "source": [
    "#### Langchain environment"
   ]
  },
  {
   "cell_type": "code",
   "execution_count": 14,
   "metadata": {},
   "outputs": [],
   "source": [
    "from langchain_openai import OpenAIEmbeddings \n",
    "from langchain_community.vectorstores import FAISS\n",
    "from langchain_openai import ChatOpenAI \n",
    "from langchain.chains.combine_documents import create_stuff_documents_chain\n",
    "from langchain.chains import create_retrieval_chain\n",
    "from langchain.chains import create_history_aware_retriever\n",
    "from langchain_core.messages import HumanMessage, AIMessage\n",
    "from langchain_core.prompts import ChatPromptTemplate\n",
    "from langchain_core.prompts import MessagesPlaceholder"
   ]
  },
  {
   "cell_type": "code",
   "execution_count": 15,
   "metadata": {},
   "outputs": [],
   "source": [
    "from langchain_openai import OpenAIEmbeddings \n",
    "from langchain_openai import ChatOpenAI \n",
    "\n",
    "from langchain_community.tools.tavily_search import TavilySearchResults\n",
    "from langchain_community.document_loaders import CSVLoader\n",
    "from langchain_community.vectorstores import FAISS\n",
    "from langchain.chains import ConversationalRetrievalChain\n",
    "from langchain.memory import ConversationBufferMemory\n",
    "\n",
    "from langchain_core.prompts import ChatPromptTemplate\n",
    "from langchain_core.pydantic_v1 import BaseModel, Field\n",
    "from langchain_core.output_parsers import StrOutputParser\n",
    "from typing_extensions import TypedDict\n",
    "from typing import List\n",
    "from langchain.schema import Document\n",
    "from langgraph.graph import END, StateGraph"
   ]
  },
  {
   "cell_type": "markdown",
   "metadata": {},
   "source": [
    "### Web Search Tool"
   ]
  },
  {
   "cell_type": "code",
   "execution_count": 16,
   "metadata": {},
   "outputs": [],
   "source": [
    "web_search_tool = TavilySearchResults()"
   ]
  },
  {
   "cell_type": "markdown",
   "metadata": {},
   "source": [
    "### Question Router"
   ]
  },
  {
   "cell_type": "code",
   "execution_count": 17,
   "metadata": {},
   "outputs": [],
   "source": [
    "# 定義兩個工具的 DataModel\n",
    "class web_search(BaseModel):\n",
    "    \"\"\"\n",
    "    網路搜尋工具。若問題與課程評價\"有關\"，請使用web_search工具搜尋解答。\n",
    "    \"\"\"\n",
    "    query: str = Field(description=\"使用網路搜尋時輸入的問題\")\n",
    "\n",
    "class vectorstore(BaseModel):\n",
    "    \"\"\"\n",
    "    跟課程詳細資料有關的向量資料庫工具。若問題與課程詳細資料，例如 grading, description 等，請使用此工具搜尋解答。\n",
    "    \"\"\"\n",
    "    query: str = Field(description=\"搜尋向量資料庫時輸入的問題\")\n",
    "\n",
    "\n",
    "# Prompt Template\n",
    "instruction = \"\"\"\n",
    "你是將使用者問題導向向量資料庫或網路搜尋的專家。\n",
    "向量資料庫包含有關成大選修課程的詳細相關資訊。對於這些主題的問題，請使用向量資料庫工具。其他情況則使用網路搜尋工具。\n",
    "\"\"\"\n",
    "route_prompt = ChatPromptTemplate.from_messages(\n",
    "    [\n",
    "        (\"system\",instruction),\n",
    "        (\"human\", \"{question}\"),\n",
    "    ]\n",
    ")\n",
    "\n",
    "# Route LLM with tools use\n",
    "llm = ChatOpenAI(openai_api_key=OPENAI_API_KEY,model=\"gpt-3.5-turbo\", temperature=0)\n",
    "\n",
    "structured_llm_router = llm.bind_tools(tools=[web_search, vectorstore])\n",
    "\n",
    "# 使用 LCEL 語法建立 chain\n",
    "question_router = route_prompt | structured_llm_router"
   ]
  },
  {
   "cell_type": "code",
   "execution_count": 18,
   "metadata": {},
   "outputs": [
    {
     "name": "stdout",
     "output_type": "stream",
     "text": [
      "[{'id': 'call_uHJXldU3p5E4SEqjBESiLU4T', 'function': {'arguments': '{\"query\":\"東京的經緯度是多少?\"}', 'name': 'web_search'}, 'type': 'function'}]\n",
      "[{'id': 'call_n9iLDnBRZfgXqKqO6NyjYyOL', 'function': {'arguments': '{\"query\":\"初級會計學（一） grading\"}', 'name': 'vectorstore'}, 'type': 'function'}]\n",
      "[{'id': 'call_CMIUrW4bbCb0u3f90pMLvN3M', 'function': {'arguments': '{\"query\":\"data structures\"}', 'name': 'vectorstore'}, 'type': 'function'}]\n",
      "True\n"
     ]
    }
   ],
   "source": [
    "# 測試 Route 功能\n",
    "response = question_router.invoke({\"question\": \"東京的經緯度是多少?\"})\n",
    "print(response.additional_kwargs['tool_calls'])\n",
    "response = question_router.invoke({\"question\": \"請列出會計系 : 初級會計學（一）的 grading?\"})\n",
    "print(response.additional_kwargs['tool_calls'])\n",
    "response = question_router.invoke({\"question\": \"你好\"})\n",
    "response = question_router.invoke({\"question\": \"請列資料結構的 description?\"})\n",
    "print(response.additional_kwargs['tool_calls'])\n",
    "print('tool_calls' in response.additional_kwargs)"
   ]
  },
  {
   "cell_type": "markdown",
   "metadata": {},
   "source": [
    "### Retriever"
   ]
  },
  {
   "cell_type": "code",
   "execution_count": 24,
   "metadata": {},
   "outputs": [],
   "source": [
    "#construct retreiver\n",
    "embeddings_model = OpenAIEmbeddings(openai_api_key=OPENAI_API_KEY)\n",
    "new_db = FAISS.load_local(\"faiss_index\", embeddings_model, allow_dangerous_deserialization=True)\n",
    "\n",
    "retriever = new_db.as_retriever()\n"
   ]
  },
  {
   "cell_type": "code",
   "execution_count": null,
   "metadata": {},
   "outputs": [],
   "source": [
    "from langchain_text_splitters import CharacterTextSplitter\n",
    "# file_paths = [\n",
    "#     \"/Users/boruchen/Documents/langchain-practice/course_data/ncku_CoM_data.csv\",\n",
    "#     \"/Users/boruchen/Documents/langchain-practice/course_data/ncku_hub_data.csv\"\n",
    "# ]\n",
    "\n",
    "# all_documents = []\n",
    "\n",
    "# for file_path in file_paths:\n",
    "#     loader = CSVLoader(file_path=file_path)\n",
    "#     documents = loader.load()\n",
    "#     all_documents.extend(documents)  \n",
    "\n",
    "# text_splitter = CharacterTextSplitter(chunk_size=1000, chunk_overlap=0)\n",
    "\n",
    "# docs = text_splitter.split_documents(all_documents)\n",
    "\n",
    "# embeddings_model = OpenAIEmbeddings(openai_api_key= OPENAI_API_KEY)\n",
    "\n",
    "# vectorstore = FAISS.from_documents(all_documents, embeddings_model)\n",
    "\n",
    "# vectorstore.save_local(\"faiss_index\")\n",
    "\n",
    "\n",
    "\n",
    "new_db = FAISS.load_local(\"faiss_index\", embeddings_model, allow_dangerous_deserialization=True)\n",
    "retriever = new_db.as_retriever()\n",
    "\n"
   ]
  },
  {
   "cell_type": "code",
   "execution_count": 25,
   "metadata": {},
   "outputs": [],
   "source": [
    "response = retriever.invoke(\"工資系課程\")"
   ]
  },
  {
   "cell_type": "code",
   "execution_count": 30,
   "metadata": {},
   "outputs": [
    {
     "name": "stdout",
     "output_type": "stream",
     "text": [
      "4\n"
     ]
    }
   ],
   "source": [
    "print(len(response)) ## we need llm to get more courses data then just four courses."
   ]
  },
  {
   "cell_type": "markdown",
   "metadata": {},
   "source": [
    "### RAG Responder"
   ]
  },
  {
   "cell_type": "code",
   "execution_count": 31,
   "metadata": {},
   "outputs": [],
   "source": [
    "llm_model = ChatOpenAI(openai_api_key=OPENAI_API_KEY,temperature=0, model=\"gpt-3.5-turbo\") \n",
    "\n",
    "\n",
    "### Contextualize question ###\n",
    "prompt_search_query = ChatPromptTemplate.from_messages([\n",
    "    MessagesPlaceholder(variable_name=\"chat_history\"),\n",
    "    (\"user\", \"{input}\"),\n",
    "    (\"user\", \"Given the above conversation, generate a search query to look up in order to get information relevant to the conversation\")\n",
    "])\n",
    "\n",
    "retriever_chain = create_history_aware_retriever(llm_model, retriever, prompt_search_query)\n",
    "\n",
    "\n",
    "\n",
    "### Answer question ###\n",
    "prompt_get_answer = ChatPromptTemplate.from_messages([\n",
    "    ('system', 'Answer the user\\'s questions based on the below context:\\n\\n{context}'),\n",
    "    MessagesPlaceholder(variable_name=\"chat_history\"),\n",
    "    ('user', '{input}'),\n",
    "])\n",
    "\n",
    "document_chain = create_stuff_documents_chain(llm_model, prompt_get_answer)\n",
    "\n",
    "retrieval_chain_combine = create_retrieval_chain(retriever_chain, document_chain)"
   ]
  },
  {
   "cell_type": "code",
   "execution_count": 32,
   "metadata": {},
   "outputs": [
    {
     "data": {
      "text/plain": [
       "[Document(metadata={'source': '/Users/boruchen/Documents/langchain-practice/ncku_CoM_data.csv', 'row': 0}, page_content='Course Name: 初級會計學（一）\\nGrading: 期中考 Midterm Exam\\t30\\n期末考 Term exam\\t40\\n出席 Participation\\t10\\n作業 Assignments\\t20\\nDepartment: 會計系Accountancy\\nTeaching Strategies: 其他:略 others\\t100\\nSyllabus Progress: 1\\tCourse Introduction  and  Ch.1  Accounting in Action\\n2\\tCh.1  Accounting in Action\\n3\\tCh.2  The Recording Process\\n4\\tCh.2  Analyzing and Recording Transactions\\n5\\tCh.3  Adjusting the Accounts\\n6\\tCh.3  Adjusting the Accounts\\n7\\tCh.4  Completing the Accounting Cycle\\n8\\tCh.4  Completing the Accounting Cycle\\n9\\tMid-Term Exam(Ch 1~4)\\n10\\tCh.5  Accounting for Merchandising Operations.\\n11\\tCh.5  Accounting for Merchandising Operations.\\n12\\tCh.6  Inventories.\\n13\\tCh.6  Inventories.\\n14\\tCh.7  Fraud, Internal Control, and Cash\\n15\\tCh.7  Fraud, Internal Control, and Cash\\n16\\tproject presentation\\n17\\tproject presentation\\n18\\tFinal Exam (Ch 5~7)\\nCourse Description: 介紹基本的會計學知識,作為學習中級會計學之基礎介紹基本的會計學知識,作為學習中級會計學之基礎'),\n",
       " Document(metadata={'source': '/Users/boruchen/Documents/langchain-practice/ncku_CoM_data.csv', 'row': 4}, page_content='Course Name: 初級會計學\\nGrading: 期中考 Midterm Exam\\t50\\n期末考 Term exam\\t25\\n出席 Participation\\t10\\n作業 Assignments\\t15\\nDepartment: 會計系Accountancy\\nTeaching Strategies: 講授 Lecture\\t90\\n討論 Discussion\\t10\\nSyllabus Progress: 1\\tTest (no class)\\n2\\tch1 Accounting in Action & ch2 The Recording Process\\n3\\tch3 Adjusting the Accounts\\n4\\t校慶運動會補假\\n5\\tch4 Completing the Accounting Cycle & ch5 Accounting for Merchandise Operations\\n6\\tch6 Inventories\\n7\\tMidterm I\\n8\\tch7 Fraud, Internal Control and Cash\\n9\\tch8 Accounting for Receivables\\n10\\tch9 Plant Assets, Natural Resources, and Intangible Assets\\n11\\tch10 Current Liabilities\\n12\\tch11 Non-Current Liabilities\\n13\\tMidterm II\\n14\\tch12 Corporations: Organization, Share Transactions, Dividends, and Retained Earnings\\n15\\tch13 Investments\\n16\\tch14 Statement of Cash Flows\\n17\\tCh 15 Financial Analysis\\n18\\tFinal Exam\\nCourse Description: 介紹基本的會計學知識,作為學習中級會計學之基礎The basic of accounting'),\n",
       " Document(metadata={'source': '/Users/boruchen/Documents/langchain-practice/ncku_CoM_data.csv', 'row': 26}, page_content='Course Name: 初級會計學（二）\\nGrading: 期中考 Midterm Exam\\t30\\n期末考 Term exam\\t40\\n出席 Participation\\t10\\n平時測驗 Quizzes\\t20\\nDepartment: 會計系Accountancy\\nTeaching Strategies: 講授 Lecture\\t100\\nSyllabus Progress: 1\\tCourse Introduction, Appendix G Subsidiary Ledgers and Special Journals, and Ch.9 Plant Assets, Natural Resources and Intangible Assets\\n2\\tholiday\\n3\\tCh.9 Plant Assets, Natural Resources and Intangible Assets\\n4\\tCh.10 Liabilities, Appendix E Time Value of Money, and Appendix I Payroll Acounting\\n5\\tCh.10 Liabilities and Appendix H Other Significant Liabilities\\n6\\tCh.11 Corporations: Organization, Share Transactions, Dividends, and Retained Earnings.\\n7\\tHoliday\\n8\\tCh.11 Corporations: Organization, Share Transactions, Dividends, and Retained Earnings. Appendix F Accounting for Partnership\\n9\\tMid-Term Exam (Ch. 9~11 and Partnership)\\n10\\tCh.12 Investments\\n11\\tCh.12 Investments（5月5日最後退選日）\\n12\\tCh.13 Statement of Cash Flow\\n13\\tCh.13 Statement of Cash Flow\\n14\\tCh.14 Financial Statement Analysis\\n15\\tholiday\\n16\\tCh.14 Financial Statement Analysis\\n17\\t會計人生涯規劃專題演講\\n18\\tFinal Exam (Ch 12~14)\\nCourse Description: 介紹基本的會計學知識,作為學習中級會計學之基礎介紹基本的會計學知識,作為學習中級會計學之基礎'),\n",
       " Document(metadata={'source': '/Users/boruchen/Documents/langchain-practice/ncku_CoM_data.csv', 'row': 17}, page_content='Course Name: 會計與金融數據分析\\nGrading: 出席 Participation\\t10\\n作業 Assignments\\t20\\n期中考 Midterm Exam\\t30\\n小組報告 Group Projects\\t40\\nDepartment: 會計系Accountancy\\nTeaching Strategies: 講授 Lecture\\t30\\n實作 Workshop\\t40\\n討論 Discussion\\t20\\n報告 Presentation\\t10\\nSyllabus Progress: 1\\t課程介紹\\n2\\tExcel 基本功能簡介與認識資料\\n3\\tExcel 基本功能簡介與認識資料\\n4\\t關聯式資料庫之概念\\n5\\t關聯式資料庫之概念\\n6\\t資料視覺化軟體之簡介與實作\\n7\\t資料視覺化軟體之簡介與實作\\n8\\t期中考\\n9\\t基本統計觀念之建立與應用\\n10\\t基本統計觀念之建立與應用\\n11\\t數據分析軟體之簡介與實作\\n12\\t數據分析軟體之簡介與實作\\n13\\t預測模型建立與數據分析\\n14\\t預測模型建立與數據分析\\n15\\t流程自動化軟體之簡介與實作\\n16\\t統計數據分析、結果解讀與報告撰寫之簡介與實作\\n17\\t統計數據分析、結果解讀與報告撰寫之簡介與實作\\n18\\t期末報告\\nCourse Description: 介紹透過軟體進行會計與金融數據之收集、結構、分析、視覺化與報導Introduction of utilization of software for data collection, structure, analysis, visualization, and reporting.')]"
      ]
     },
     "execution_count": 32,
     "metadata": {},
     "output_type": "execute_result"
    }
   ],
   "source": [
    "retriever.invoke(\"初級會計學的出席分數\")"
   ]
  },
  {
   "cell_type": "code",
   "execution_count": 33,
   "metadata": {},
   "outputs": [],
   "source": [
    "# testing retrieverchain\n",
    "chat_history = []\n",
    "query = '初級會計學出席分數佔比'\n",
    "# 使用 retriever_chain 生成檢索查詢\n",
    "search_query_response = retriever_chain.invoke({\n",
    "    \"input\": query,\n",
    "    \"chat_history\": chat_history\n",
    "})"
   ]
  },
  {
   "cell_type": "code",
   "execution_count": 34,
   "metadata": {},
   "outputs": [],
   "source": [
    "def rag_invoke(query: str, chat_history: list) -> str:\n",
    "    \"\"\"\n",
    "    向 LLM 提問並返回回應。\n",
    "\n",
    "    :param query: 要提問的問題\n",
    "    :param chat_history: 之前的聊天記錄\n",
    "    :return: LLM 的回答\n",
    "    \"\"\"\n",
    "    response = retrieval_chain_combine.invoke({\"input\": query, \"chat_history\": chat_history})\n",
    "    chat_history.append(HumanMessage(content=query))\n",
    "    chat_history.append(AIMessage(content=response['answer']))\n",
    "    return response['answer']"
   ]
  },
  {
   "cell_type": "markdown",
   "metadata": {},
   "source": [
    "#### Testing"
   ]
  },
  {
   "cell_type": "code",
   "execution_count": 35,
   "metadata": {},
   "outputs": [
    {
     "name": "stdout",
     "output_type": "stream",
     "text": [
      "資料結構這堂課的分數百分比如下：\n",
      "- 期中考 (Midterm Exam): 40%\n",
      "- 期末考 (Term Exam): 25%\n",
      "- 平時測驗 (Quizzes): 25%\n",
      "- 出席 (Participation): 10%\n",
      "這堂資料結構課程旨在幫助學生選擇適當的資料結構來應對大型應用程式的複雜性。課程將涵蓋結構化問題解決、資料抽象、軟體工程原則以及算法的比較分析。課程包含許多C++範例程式，因此具備C++編碼能力對這門課至關重要。課程將涵蓋以下8個主題：\n",
      "1. C++程式環境介紹\n",
      "2. 資料結構基本概念\n",
      "3. 陣列和結構\n",
      "4. 堆疊和佇列\n",
      "5. 列表\n",
      "6. 樹\n",
      "7. 排序\n",
      "8. 雜湊\n"
     ]
    }
   ],
   "source": [
    "chat_history = []\n",
    "query = \"請列出資料結構這堂課的分數百分比\"\n",
    "response = retrieval_chain_combine.invoke({\"input\": query, \"chat_history\": chat_history}) \n",
    "print(response['answer'])\n",
    "chat_history.append(HumanMessage(content=query))\n",
    "chat_history.append(AIMessage(content=response['answer']))\n",
    "\n",
    "query2 = \"那這堂課的課程描述是什麼\"\n",
    "response2 = retrieval_chain_combine.invoke({\n",
    "    \"input\": query2,\n",
    "    \"chat_history\": chat_history\n",
    "}) \n",
    "print(response2['answer'])"
   ]
  },
  {
   "cell_type": "code",
   "execution_count": 36,
   "metadata": {},
   "outputs": [
    {
     "data": {
      "text/plain": [
       "'會計系：初級會計學（一）的 grading如下：\\n- 期中考 (Midterm Exam): 30%\\n- 期末考 (Term Exam): 40%\\n- 出席 (Participation): 10%\\n- 作業 (Assignments): 20%'"
      ]
     },
     "execution_count": 36,
     "metadata": {},
     "output_type": "execute_result"
    }
   ],
   "source": [
    "query1 = \"請列出會計系 : 初級會計學（一）的 grading\"\n",
    "rag_invoke(query1, chat_history)"
   ]
  },
  {
   "cell_type": "code",
   "execution_count": 37,
   "metadata": {},
   "outputs": [
    {
     "data": {
      "text/plain": [
       "'您問過以下課程的資訊：\\n1. 初級會計學（一）\\n2. 會計與金融數據分析\\n3. 初級會計學\\n4. 高級會計學（二）'"
      ]
     },
     "execution_count": 37,
     "metadata": {},
     "output_type": "execute_result"
    }
   ],
   "source": [
    "query2 = \"我問過哪些課程的資訊，幫我列出來\"\n",
    "rag_invoke(query2, chat_history)"
   ]
  },
  {
   "cell_type": "code",
   "execution_count": 38,
   "metadata": {},
   "outputs": [
    {
     "data": {
      "text/plain": [
       "'您上一次問的是「會計系：初級會計學（一）」，該課程的出席分數佔比為10%。'"
      ]
     },
     "execution_count": 38,
     "metadata": {},
     "output_type": "execute_result"
    }
   ],
   "source": [
    "query3 = \"可以告訴我我上一次問的那堂課的出席分數佔比嗎\"\n",
    "rag_invoke(query3, chat_history)"
   ]
  },
  {
   "cell_type": "markdown",
   "metadata": {},
   "source": [
    "### Retrieval Grader"
   ]
  },
  {
   "cell_type": "code",
   "execution_count": 39,
   "metadata": {},
   "outputs": [],
   "source": [
    "class GradeDocuments(BaseModel):\n",
    "    \"\"\"\n",
    "    確認提取文章與問題是否有關(yes/no)\n",
    "    \"\"\"\n",
    "\n",
    "    binary_score: str = Field(description=\"請問文章與問題是否相關。('yes' or 'no')\")\n",
    "\n",
    "# Prompt Template\n",
    "instruction = \"\"\"\n",
    "你是一個評分的人員，負責評估文件與使用者問題的關聯性。\n",
    "如果文件包含與使用者問題相關的關鍵字或語意，則將其評為相關。\n",
    "輸出 'yes' or 'no' 代表文件與問題的相關與否。\n",
    "\"\"\"\n",
    "grade_prompt = ChatPromptTemplate.from_messages(\n",
    "    [\n",
    "        (\"system\",instruction),\n",
    "        (\"human\", \"文件: \\n\\n {document} \\n\\n 使用者問題: {question}\"),\n",
    "    ]\n",
    ")\n",
    "\n",
    "# Grader LLM\n",
    "llm = ChatOpenAI(openai_api_key=OPENAI_API_KEY ,model=\"gpt-3.5-turbo\", temperature=0)\n",
    "structured_llm_grader = llm.with_structured_output(GradeDocuments)\n",
    "\n",
    "# 使用 LCEL 語法建立 chain\n",
    "retrieval_grader = grade_prompt | structured_llm_grader"
   ]
  },
  {
   "cell_type": "code",
   "execution_count": 40,
   "metadata": {},
   "outputs": [
    {
     "name": "stdout",
     "output_type": "stream",
     "text": [
      "binary_score='yes'\n",
      "binary_score='no'\n"
     ]
    }
   ],
   "source": [
    "# 測試 grader 功能\n",
    "question = \"會計系有什麼課?\"\n",
    "docs = retriever_chain.invoke({\n",
    "    \"input\": query,\n",
    "    \"chat_history\": chat_history\n",
    "})\n",
    "\n",
    "response =  retrieval_grader.invoke({\"question\": question, \"document\": docs})\n",
    "print(response)\n",
    "\n",
    "# 測試 grader 功能\n",
    "question = \"今天天氣好嗎?\"\n",
    "docs = retriever_chain.invoke({\n",
    "    \"input\": question,\n",
    "    \"chat_history\": chat_history\n",
    "})\n",
    "doccs = docs[0].page_content\n",
    "response =  retrieval_grader.invoke({\"question\": question, \"document\": docs})\n",
    "print(response)"
   ]
  },
  {
   "cell_type": "markdown",
   "metadata": {},
   "source": [
    "### Hallucination Grader"
   ]
  },
  {
   "cell_type": "code",
   "execution_count": 41,
   "metadata": {},
   "outputs": [],
   "source": [
    "class GradeHallucinations(BaseModel):\n",
    "    \"\"\"\n",
    "    確認答案是否為虛構(yes/no)\n",
    "    \"\"\"\n",
    "\n",
    "    binary_score: str = Field(description=\"答案是否由為虛構。('yes' or 'no')\")\n",
    "\n",
    "# Prompt Template\n",
    "instruction = \"\"\"\n",
    "你是一個評分的人員，負責確認LLM的回應是否為虛構的。\n",
    "以下會給你一個文件與相對應的LLM回應，請輸出 'yes' or 'no'做為判斷結果。\n",
    "'Yes' 代表LLM的回答是虛構的，未基於文件內容 'No' 則代表LLM的回答並未虛構，而是基於文件內容得出。\n",
    "\"\"\"\n",
    "hallucination_prompt = ChatPromptTemplate.from_messages(\n",
    "    [\n",
    "        (\"system\",instruction),\n",
    "        (\"human\", \"文件: \\n\\n {documents} \\n\\n LLM 回應: {generation}\"),\n",
    "    ]\n",
    ")\n",
    "\n",
    "\n",
    "# Grader LLM\n",
    "llm = ChatOpenAI(openai_api_key=OPENAI_API_KEY, model=\"gpt-3.5-turbo\", temperature=0)\n",
    "structured_llm_grader = llm.with_structured_output(GradeHallucinations)\n",
    "\n",
    "# 使用 LCEL 語法建立 chain\n",
    "hallucination_grader = hallucination_prompt | structured_llm_grader"
   ]
  },
  {
   "cell_type": "code",
   "execution_count": 42,
   "metadata": {},
   "outputs": [
    {
     "data": {
      "text/plain": [
       "GradeHallucinations(binary_score='no')"
      ]
     },
     "execution_count": 42,
     "metadata": {},
     "output_type": "execute_result"
    }
   ],
   "source": [
    "# 測試 grader 功能\n",
    "question = \"今天天氣很好?\"\n",
    "docs = retriever.invoke(question)\n",
    "generation = retrieval_chain_combine.invoke({\"input\": question, \"chat_history\": chat_history})\n",
    "hallucination_grader.invoke({\"documents\": generation['context'], \"generation\": generation})"
   ]
  },
  {
   "cell_type": "code",
   "execution_count": 43,
   "metadata": {},
   "outputs": [
    {
     "data": {
      "text/plain": [
       "[Document(metadata={'source': '/Users/boruchen/Documents/langchain-practice/ncku_CoM_data.csv', 'row': 0}, page_content='Course Name: 初級會計學（一）\\nGrading: 期中考 Midterm Exam\\t30\\n期末考 Term exam\\t40\\n出席 Participation\\t10\\n作業 Assignments\\t20\\nDepartment: 會計系Accountancy\\nTeaching Strategies: 其他:略 others\\t100\\nSyllabus Progress: 1\\tCourse Introduction  and  Ch.1  Accounting in Action\\n2\\tCh.1  Accounting in Action\\n3\\tCh.2  The Recording Process\\n4\\tCh.2  Analyzing and Recording Transactions\\n5\\tCh.3  Adjusting the Accounts\\n6\\tCh.3  Adjusting the Accounts\\n7\\tCh.4  Completing the Accounting Cycle\\n8\\tCh.4  Completing the Accounting Cycle\\n9\\tMid-Term Exam(Ch 1~4)\\n10\\tCh.5  Accounting for Merchandising Operations.\\n11\\tCh.5  Accounting for Merchandising Operations.\\n12\\tCh.6  Inventories.\\n13\\tCh.6  Inventories.\\n14\\tCh.7  Fraud, Internal Control, and Cash\\n15\\tCh.7  Fraud, Internal Control, and Cash\\n16\\tproject presentation\\n17\\tproject presentation\\n18\\tFinal Exam (Ch 5~7)\\nCourse Description: 介紹基本的會計學知識,作為學習中級會計學之基礎介紹基本的會計學知識,作為學習中級會計學之基礎'),\n",
       " Document(metadata={'source': '/Users/boruchen/Documents/langchain-practice/ncku_CoM_data.csv', 'row': 4}, page_content='Course Name: 初級會計學\\nGrading: 期中考 Midterm Exam\\t50\\n期末考 Term exam\\t25\\n出席 Participation\\t10\\n作業 Assignments\\t15\\nDepartment: 會計系Accountancy\\nTeaching Strategies: 講授 Lecture\\t90\\n討論 Discussion\\t10\\nSyllabus Progress: 1\\tTest (no class)\\n2\\tch1 Accounting in Action & ch2 The Recording Process\\n3\\tch3 Adjusting the Accounts\\n4\\t校慶運動會補假\\n5\\tch4 Completing the Accounting Cycle & ch5 Accounting for Merchandise Operations\\n6\\tch6 Inventories\\n7\\tMidterm I\\n8\\tch7 Fraud, Internal Control and Cash\\n9\\tch8 Accounting for Receivables\\n10\\tch9 Plant Assets, Natural Resources, and Intangible Assets\\n11\\tch10 Current Liabilities\\n12\\tch11 Non-Current Liabilities\\n13\\tMidterm II\\n14\\tch12 Corporations: Organization, Share Transactions, Dividends, and Retained Earnings\\n15\\tch13 Investments\\n16\\tch14 Statement of Cash Flows\\n17\\tCh 15 Financial Analysis\\n18\\tFinal Exam\\nCourse Description: 介紹基本的會計學知識,作為學習中級會計學之基礎The basic of accounting'),\n",
       " Document(metadata={'source': '/Users/boruchen/Documents/langchain-practice/ncku_CoM_data.csv', 'row': 26}, page_content='Course Name: 初級會計學（二）\\nGrading: 期中考 Midterm Exam\\t30\\n期末考 Term exam\\t40\\n出席 Participation\\t10\\n平時測驗 Quizzes\\t20\\nDepartment: 會計系Accountancy\\nTeaching Strategies: 講授 Lecture\\t100\\nSyllabus Progress: 1\\tCourse Introduction, Appendix G Subsidiary Ledgers and Special Journals, and Ch.9 Plant Assets, Natural Resources and Intangible Assets\\n2\\tholiday\\n3\\tCh.9 Plant Assets, Natural Resources and Intangible Assets\\n4\\tCh.10 Liabilities, Appendix E Time Value of Money, and Appendix I Payroll Acounting\\n5\\tCh.10 Liabilities and Appendix H Other Significant Liabilities\\n6\\tCh.11 Corporations: Organization, Share Transactions, Dividends, and Retained Earnings.\\n7\\tHoliday\\n8\\tCh.11 Corporations: Organization, Share Transactions, Dividends, and Retained Earnings. Appendix F Accounting for Partnership\\n9\\tMid-Term Exam (Ch. 9~11 and Partnership)\\n10\\tCh.12 Investments\\n11\\tCh.12 Investments（5月5日最後退選日）\\n12\\tCh.13 Statement of Cash Flow\\n13\\tCh.13 Statement of Cash Flow\\n14\\tCh.14 Financial Statement Analysis\\n15\\tholiday\\n16\\tCh.14 Financial Statement Analysis\\n17\\t會計人生涯規劃專題演講\\n18\\tFinal Exam (Ch 12~14)\\nCourse Description: 介紹基本的會計學知識,作為學習中級會計學之基礎介紹基本的會計學知識,作為學習中級會計學之基礎'),\n",
       " Document(metadata={'source': '/Users/boruchen/Documents/langchain-practice/ncku_CoM_data.csv', 'row': 36}, page_content='Course Name: 中級會計學（一）\\nGrading: 其他 others:Class Attendance & Participation\\t6\\n其他 others:Mid-Term Exam 1\\t30\\n其他 others:Mid-Term Exam 2\\t32\\n期末考 Term exam\\t32\\nDepartment: 會計系Accountancy\\nTeaching Strategies: 講授 Lecture\\t80\\n討論 Discussion\\t20\\nSyllabus Progress: 1\\tIntroduction\\n2\\tNo Class\\n3\\tCh1. Financial Reporting and Accounting Standards\\nCh2. Conceptual Framework for Financial Reporting\\n4\\tCh3. The Accounting Information System\\n5\\tCh4. Income Statement and Related Information\\n6\\tCh4. Income Statement and Related Information\\n7\\tCh5. Statement of Financial Position and Statement of Cash Flows\\n8\\tMid-term Exam 1\\n9\\tCh5. Statement of Financial Position and Statement of Cash Flows\\n10\\tCh7. Receivables\\n11\\tCh8. Valuation of Inventories: A Cost-Basis Approach\\n12\\tCh9. Inventory: Additional Valuation Issues\\n13\\tMid-term Exam 2\\n14\\tCh9. Inventory: Additional Valuation Issues\\n15\\tCh10. Acquisition and Disposition of Property, Plant, and Equipment\\n16\\tCh10. Acquisition and Disposition of Property, Plant, and Equipment\\n17\\tCh10. Acquisition and Disposition of Property, Plant, and Equipment\\n18\\tFinal Exam\\nCourse Description: 深入介紹會計準則與處理方法深入介紹會計準則與處理方法')]"
      ]
     },
     "execution_count": 43,
     "metadata": {},
     "output_type": "execute_result"
    }
   ],
   "source": [
    "generation['context']"
   ]
  },
  {
   "cell_type": "code",
   "execution_count": 44,
   "metadata": {},
   "outputs": [
    {
     "data": {
      "text/plain": [
       "[Document(metadata={'source': '/Users/boruchen/Documents/langchain-practice/ncku_hub_data.csv', 'row': 20}, page_content='課程名稱: A9-222 運動與健康\\n收穫: 7\\n甜度: 8\\n涼度: 9'),\n",
       " Document(metadata={'source': '/Users/boruchen/Documents/langchain-practice/ncku_hub_data.csv', 'row': 4}, page_content='課程名稱: A9-319 科技與國防\\n收穫: 5\\n甜度: 8\\n涼度: 9'),\n",
       " Document(metadata={'source': '/Users/boruchen/Documents/langchain-practice/ncku_hub_data.csv', 'row': 28}, page_content='課程名稱: A9-204 職能治療與健康\\n收穫: 7\\n甜度: 7\\n涼度: 9'),\n",
       " Document(metadata={'source': '/Users/boruchen/Documents/langchain-practice/ncku_hub_data.csv', 'row': 69}, page_content='課程名稱: A9-060 英語演說\\n收穫: 8\\n甜度: 7\\n涼度: 4')]"
      ]
     },
     "execution_count": 44,
     "metadata": {},
     "output_type": "execute_result"
    }
   ],
   "source": [
    "docs"
   ]
  },
  {
   "cell_type": "markdown",
   "metadata": {},
   "source": [
    "### Answer Grader"
   ]
  },
  {
   "cell_type": "code",
   "execution_count": 45,
   "metadata": {},
   "outputs": [],
   "source": [
    "class GradeAnswer(BaseModel):\n",
    "    \"\"\"\n",
    "    確認答案是否可回應問題\n",
    "    \"\"\"\n",
    "\n",
    "    binary_score: str = Field(description=\"答案是否回應問題。('yes' or 'no')\")\n",
    "\n",
    "# Prompt Template\n",
    "instruction = \"\"\"\n",
    "你是一個評分的人員，負責確認答案是否回應了問題。\n",
    "輸出 'yes' or 'no'。 'Yes' 代表答案確實回應了問題， 'No' 則代表答案並未回應問題。\n",
    "\"\"\"\n",
    "# Prompt\n",
    "answer_prompt = ChatPromptTemplate.from_messages(\n",
    "    [\n",
    "        (\"system\",instruction),\n",
    "        (\"human\", \"使用者問題: \\n\\n {question} \\n\\n 答案: {generation}\"),\n",
    "    ]\n",
    ")\n",
    "\n",
    "# LLM with function call\n",
    "llm = ChatOpenAI(openai_api_key=OPENAI_API_KEY, model=\"gpt-3.5-turbo\", temperature=0)\n",
    "structured_llm_grader = llm.with_structured_output(GradeAnswer)\n",
    "\n",
    "# 使用 LCEL 語法建立 chain\n",
    "answer_grader = answer_prompt | structured_llm_grader"
   ]
  },
  {
   "cell_type": "code",
   "execution_count": 46,
   "metadata": {},
   "outputs": [
    {
     "name": "stdout",
     "output_type": "stream",
     "text": [
      "{'input': '今天天氣真好?', 'chat_history': [HumanMessage(content='請列出資料結構這堂課的分數百分比'), AIMessage(content='資料結構這堂課的分數百分比如下：\\n- 期中考 (Midterm Exam): 40%\\n- 期末考 (Term Exam): 25%\\n- 平時測驗 (Quizzes): 25%\\n- 出席 (Participation): 10%'), HumanMessage(content='請列出會計系 : 初級會計學（一）的 grading'), AIMessage(content='會計系：初級會計學（一）的 grading如下：\\n- 期中考 (Midterm Exam): 30%\\n- 期末考 (Term Exam): 40%\\n- 出席 (Participation): 10%\\n- 作業 (Assignments): 20%'), HumanMessage(content='我問過哪些課程的資訊，幫我列出來'), AIMessage(content='您問過以下課程的資訊：\\n1. 初級會計學（一）\\n2. 會計與金融數據分析\\n3. 初級會計學\\n4. 高級會計學（二）'), HumanMessage(content='可以告訴我我上一次問的那堂課的出席分數佔比嗎'), AIMessage(content='您上一次問的是「會計系：初級會計學（一）」，該課程的出席分數佔比為10%。')], 'context': [Document(metadata={'source': '/Users/boruchen/Documents/langchain-practice/ncku_CoM_data.csv', 'row': 0}, page_content='Course Name: 初級會計學（一）\\nGrading: 期中考 Midterm Exam\\t30\\n期末考 Term exam\\t40\\n出席 Participation\\t10\\n作業 Assignments\\t20\\nDepartment: 會計系Accountancy\\nTeaching Strategies: 其他:略 others\\t100\\nSyllabus Progress: 1\\tCourse Introduction  and  Ch.1  Accounting in Action\\n2\\tCh.1  Accounting in Action\\n3\\tCh.2  The Recording Process\\n4\\tCh.2  Analyzing and Recording Transactions\\n5\\tCh.3  Adjusting the Accounts\\n6\\tCh.3  Adjusting the Accounts\\n7\\tCh.4  Completing the Accounting Cycle\\n8\\tCh.4  Completing the Accounting Cycle\\n9\\tMid-Term Exam(Ch 1~4)\\n10\\tCh.5  Accounting for Merchandising Operations.\\n11\\tCh.5  Accounting for Merchandising Operations.\\n12\\tCh.6  Inventories.\\n13\\tCh.6  Inventories.\\n14\\tCh.7  Fraud, Internal Control, and Cash\\n15\\tCh.7  Fraud, Internal Control, and Cash\\n16\\tproject presentation\\n17\\tproject presentation\\n18\\tFinal Exam (Ch 5~7)\\nCourse Description: 介紹基本的會計學知識,作為學習中級會計學之基礎介紹基本的會計學知識,作為學習中級會計學之基礎'), Document(metadata={'source': '/Users/boruchen/Documents/langchain-practice/ncku_CoM_data.csv', 'row': 4}, page_content='Course Name: 初級會計學\\nGrading: 期中考 Midterm Exam\\t50\\n期末考 Term exam\\t25\\n出席 Participation\\t10\\n作業 Assignments\\t15\\nDepartment: 會計系Accountancy\\nTeaching Strategies: 講授 Lecture\\t90\\n討論 Discussion\\t10\\nSyllabus Progress: 1\\tTest (no class)\\n2\\tch1 Accounting in Action & ch2 The Recording Process\\n3\\tch3 Adjusting the Accounts\\n4\\t校慶運動會補假\\n5\\tch4 Completing the Accounting Cycle & ch5 Accounting for Merchandise Operations\\n6\\tch6 Inventories\\n7\\tMidterm I\\n8\\tch7 Fraud, Internal Control and Cash\\n9\\tch8 Accounting for Receivables\\n10\\tch9 Plant Assets, Natural Resources, and Intangible Assets\\n11\\tch10 Current Liabilities\\n12\\tch11 Non-Current Liabilities\\n13\\tMidterm II\\n14\\tch12 Corporations: Organization, Share Transactions, Dividends, and Retained Earnings\\n15\\tch13 Investments\\n16\\tch14 Statement of Cash Flows\\n17\\tCh 15 Financial Analysis\\n18\\tFinal Exam\\nCourse Description: 介紹基本的會計學知識,作為學習中級會計學之基礎The basic of accounting'), Document(metadata={'source': '/Users/boruchen/Documents/langchain-practice/ncku_CoM_data.csv', 'row': 26}, page_content='Course Name: 初級會計學（二）\\nGrading: 期中考 Midterm Exam\\t30\\n期末考 Term exam\\t40\\n出席 Participation\\t10\\n平時測驗 Quizzes\\t20\\nDepartment: 會計系Accountancy\\nTeaching Strategies: 講授 Lecture\\t100\\nSyllabus Progress: 1\\tCourse Introduction, Appendix G Subsidiary Ledgers and Special Journals, and Ch.9 Plant Assets, Natural Resources and Intangible Assets\\n2\\tholiday\\n3\\tCh.9 Plant Assets, Natural Resources and Intangible Assets\\n4\\tCh.10 Liabilities, Appendix E Time Value of Money, and Appendix I Payroll Acounting\\n5\\tCh.10 Liabilities and Appendix H Other Significant Liabilities\\n6\\tCh.11 Corporations: Organization, Share Transactions, Dividends, and Retained Earnings.\\n7\\tHoliday\\n8\\tCh.11 Corporations: Organization, Share Transactions, Dividends, and Retained Earnings. Appendix F Accounting for Partnership\\n9\\tMid-Term Exam (Ch. 9~11 and Partnership)\\n10\\tCh.12 Investments\\n11\\tCh.12 Investments（5月5日最後退選日）\\n12\\tCh.13 Statement of Cash Flow\\n13\\tCh.13 Statement of Cash Flow\\n14\\tCh.14 Financial Statement Analysis\\n15\\tholiday\\n16\\tCh.14 Financial Statement Analysis\\n17\\t會計人生涯規劃專題演講\\n18\\tFinal Exam (Ch 12~14)\\nCourse Description: 介紹基本的會計學知識,作為學習中級會計學之基礎介紹基本的會計學知識,作為學習中級會計學之基礎'), Document(metadata={'source': '/Users/boruchen/Documents/langchain-practice/ncku_CoM_data.csv', 'row': 36}, page_content='Course Name: 中級會計學（一）\\nGrading: 其他 others:Class Attendance & Participation\\t6\\n其他 others:Mid-Term Exam 1\\t30\\n其他 others:Mid-Term Exam 2\\t32\\n期末考 Term exam\\t32\\nDepartment: 會計系Accountancy\\nTeaching Strategies: 講授 Lecture\\t80\\n討論 Discussion\\t20\\nSyllabus Progress: 1\\tIntroduction\\n2\\tNo Class\\n3\\tCh1. Financial Reporting and Accounting Standards\\nCh2. Conceptual Framework for Financial Reporting\\n4\\tCh3. The Accounting Information System\\n5\\tCh4. Income Statement and Related Information\\n6\\tCh4. Income Statement and Related Information\\n7\\tCh5. Statement of Financial Position and Statement of Cash Flows\\n8\\tMid-term Exam 1\\n9\\tCh5. Statement of Financial Position and Statement of Cash Flows\\n10\\tCh7. Receivables\\n11\\tCh8. Valuation of Inventories: A Cost-Basis Approach\\n12\\tCh9. Inventory: Additional Valuation Issues\\n13\\tMid-term Exam 2\\n14\\tCh9. Inventory: Additional Valuation Issues\\n15\\tCh10. Acquisition and Disposition of Property, Plant, and Equipment\\n16\\tCh10. Acquisition and Disposition of Property, Plant, and Equipment\\n17\\tCh10. Acquisition and Disposition of Property, Plant, and Equipment\\n18\\tFinal Exam\\nCourse Description: 深入介紹會計準則與處理方法深入介紹會計準則與處理方法')], 'answer': '很抱歉，我無法提供有關天氣的資訊。如果您有任何其他問題，請隨時告訴我！我很樂意幫助您。'}\n"
     ]
    },
    {
     "data": {
      "text/plain": [
       "GradeAnswer(binary_score='no')"
      ]
     },
     "execution_count": 46,
     "metadata": {},
     "output_type": "execute_result"
    }
   ],
   "source": [
    "#測試 grader 功能\n",
    "question = \"今天天氣真好?\"\n",
    "docs = retriever.invoke(question)\n",
    "generation = retrieval_chain_combine.invoke({\"input\": question, \"chat_history\": chat_history})\n",
    "print(generation)\n",
    "answer_grader.invoke({\"question\": question,\"generation\": generation})"
   ]
  },
  {
   "cell_type": "code",
   "execution_count": 47,
   "metadata": {},
   "outputs": [
    {
     "data": {
      "text/plain": [
       "{'input': '今天天氣真好?',\n",
       " 'chat_history': [HumanMessage(content='請列出資料結構這堂課的分數百分比'),\n",
       "  AIMessage(content='資料結構這堂課的分數百分比如下：\\n- 期中考 (Midterm Exam): 40%\\n- 期末考 (Term Exam): 25%\\n- 平時測驗 (Quizzes): 25%\\n- 出席 (Participation): 10%'),\n",
       "  HumanMessage(content='請列出會計系 : 初級會計學（一）的 grading'),\n",
       "  AIMessage(content='會計系：初級會計學（一）的 grading如下：\\n- 期中考 (Midterm Exam): 30%\\n- 期末考 (Term Exam): 40%\\n- 出席 (Participation): 10%\\n- 作業 (Assignments): 20%'),\n",
       "  HumanMessage(content='我問過哪些課程的資訊，幫我列出來'),\n",
       "  AIMessage(content='您問過以下課程的資訊：\\n1. 初級會計學（一）\\n2. 會計與金融數據分析\\n3. 初級會計學\\n4. 高級會計學（二）'),\n",
       "  HumanMessage(content='可以告訴我我上一次問的那堂課的出席分數佔比嗎'),\n",
       "  AIMessage(content='您上一次問的是「會計系：初級會計學（一）」，該課程的出席分數佔比為10%。')],\n",
       " 'context': [Document(metadata={'source': '/Users/boruchen/Documents/langchain-practice/ncku_CoM_data.csv', 'row': 0}, page_content='Course Name: 初級會計學（一）\\nGrading: 期中考 Midterm Exam\\t30\\n期末考 Term exam\\t40\\n出席 Participation\\t10\\n作業 Assignments\\t20\\nDepartment: 會計系Accountancy\\nTeaching Strategies: 其他:略 others\\t100\\nSyllabus Progress: 1\\tCourse Introduction  and  Ch.1  Accounting in Action\\n2\\tCh.1  Accounting in Action\\n3\\tCh.2  The Recording Process\\n4\\tCh.2  Analyzing and Recording Transactions\\n5\\tCh.3  Adjusting the Accounts\\n6\\tCh.3  Adjusting the Accounts\\n7\\tCh.4  Completing the Accounting Cycle\\n8\\tCh.4  Completing the Accounting Cycle\\n9\\tMid-Term Exam(Ch 1~4)\\n10\\tCh.5  Accounting for Merchandising Operations.\\n11\\tCh.5  Accounting for Merchandising Operations.\\n12\\tCh.6  Inventories.\\n13\\tCh.6  Inventories.\\n14\\tCh.7  Fraud, Internal Control, and Cash\\n15\\tCh.7  Fraud, Internal Control, and Cash\\n16\\tproject presentation\\n17\\tproject presentation\\n18\\tFinal Exam (Ch 5~7)\\nCourse Description: 介紹基本的會計學知識,作為學習中級會計學之基礎介紹基本的會計學知識,作為學習中級會計學之基礎'),\n",
       "  Document(metadata={'source': '/Users/boruchen/Documents/langchain-practice/ncku_CoM_data.csv', 'row': 4}, page_content='Course Name: 初級會計學\\nGrading: 期中考 Midterm Exam\\t50\\n期末考 Term exam\\t25\\n出席 Participation\\t10\\n作業 Assignments\\t15\\nDepartment: 會計系Accountancy\\nTeaching Strategies: 講授 Lecture\\t90\\n討論 Discussion\\t10\\nSyllabus Progress: 1\\tTest (no class)\\n2\\tch1 Accounting in Action & ch2 The Recording Process\\n3\\tch3 Adjusting the Accounts\\n4\\t校慶運動會補假\\n5\\tch4 Completing the Accounting Cycle & ch5 Accounting for Merchandise Operations\\n6\\tch6 Inventories\\n7\\tMidterm I\\n8\\tch7 Fraud, Internal Control and Cash\\n9\\tch8 Accounting for Receivables\\n10\\tch9 Plant Assets, Natural Resources, and Intangible Assets\\n11\\tch10 Current Liabilities\\n12\\tch11 Non-Current Liabilities\\n13\\tMidterm II\\n14\\tch12 Corporations: Organization, Share Transactions, Dividends, and Retained Earnings\\n15\\tch13 Investments\\n16\\tch14 Statement of Cash Flows\\n17\\tCh 15 Financial Analysis\\n18\\tFinal Exam\\nCourse Description: 介紹基本的會計學知識,作為學習中級會計學之基礎The basic of accounting'),\n",
       "  Document(metadata={'source': '/Users/boruchen/Documents/langchain-practice/ncku_CoM_data.csv', 'row': 26}, page_content='Course Name: 初級會計學（二）\\nGrading: 期中考 Midterm Exam\\t30\\n期末考 Term exam\\t40\\n出席 Participation\\t10\\n平時測驗 Quizzes\\t20\\nDepartment: 會計系Accountancy\\nTeaching Strategies: 講授 Lecture\\t100\\nSyllabus Progress: 1\\tCourse Introduction, Appendix G Subsidiary Ledgers and Special Journals, and Ch.9 Plant Assets, Natural Resources and Intangible Assets\\n2\\tholiday\\n3\\tCh.9 Plant Assets, Natural Resources and Intangible Assets\\n4\\tCh.10 Liabilities, Appendix E Time Value of Money, and Appendix I Payroll Acounting\\n5\\tCh.10 Liabilities and Appendix H Other Significant Liabilities\\n6\\tCh.11 Corporations: Organization, Share Transactions, Dividends, and Retained Earnings.\\n7\\tHoliday\\n8\\tCh.11 Corporations: Organization, Share Transactions, Dividends, and Retained Earnings. Appendix F Accounting for Partnership\\n9\\tMid-Term Exam (Ch. 9~11 and Partnership)\\n10\\tCh.12 Investments\\n11\\tCh.12 Investments（5月5日最後退選日）\\n12\\tCh.13 Statement of Cash Flow\\n13\\tCh.13 Statement of Cash Flow\\n14\\tCh.14 Financial Statement Analysis\\n15\\tholiday\\n16\\tCh.14 Financial Statement Analysis\\n17\\t會計人生涯規劃專題演講\\n18\\tFinal Exam (Ch 12~14)\\nCourse Description: 介紹基本的會計學知識,作為學習中級會計學之基礎介紹基本的會計學知識,作為學習中級會計學之基礎'),\n",
       "  Document(metadata={'source': '/Users/boruchen/Documents/langchain-practice/ncku_CoM_data.csv', 'row': 36}, page_content='Course Name: 中級會計學（一）\\nGrading: 其他 others:Class Attendance & Participation\\t6\\n其他 others:Mid-Term Exam 1\\t30\\n其他 others:Mid-Term Exam 2\\t32\\n期末考 Term exam\\t32\\nDepartment: 會計系Accountancy\\nTeaching Strategies: 講授 Lecture\\t80\\n討論 Discussion\\t20\\nSyllabus Progress: 1\\tIntroduction\\n2\\tNo Class\\n3\\tCh1. Financial Reporting and Accounting Standards\\nCh2. Conceptual Framework for Financial Reporting\\n4\\tCh3. The Accounting Information System\\n5\\tCh4. Income Statement and Related Information\\n6\\tCh4. Income Statement and Related Information\\n7\\tCh5. Statement of Financial Position and Statement of Cash Flows\\n8\\tMid-term Exam 1\\n9\\tCh5. Statement of Financial Position and Statement of Cash Flows\\n10\\tCh7. Receivables\\n11\\tCh8. Valuation of Inventories: A Cost-Basis Approach\\n12\\tCh9. Inventory: Additional Valuation Issues\\n13\\tMid-term Exam 2\\n14\\tCh9. Inventory: Additional Valuation Issues\\n15\\tCh10. Acquisition and Disposition of Property, Plant, and Equipment\\n16\\tCh10. Acquisition and Disposition of Property, Plant, and Equipment\\n17\\tCh10. Acquisition and Disposition of Property, Plant, and Equipment\\n18\\tFinal Exam\\nCourse Description: 深入介紹會計準則與處理方法深入介紹會計準則與處理方法')],\n",
       " 'answer': '很抱歉，我無法提供有關天氣的資訊。如果您有任何其他問題，請隨時告訴我！我很樂意幫助您。'}"
      ]
     },
     "execution_count": 47,
     "metadata": {},
     "output_type": "execute_result"
    }
   ],
   "source": [
    "generation"
   ]
  },
  {
   "cell_type": "markdown",
   "metadata": {},
   "source": [
    "### Memory"
   ]
  },
  {
   "cell_type": "code",
   "execution_count": null,
   "metadata": {},
   "outputs": [],
   "source": [
    "from langchain_community.chat_message_histories import ChatMessageHistory\n",
    "from langchain_core.chat_history import BaseChatMessageHistory\n",
    "from langchain_core.runnables.history import RunnableWithMessageHistory\n",
    "from langchain_text_splitters import RecursiveCharacterTextSplitter\n",
    "### Statefully manage chat history ###\n",
    "store = {}\n",
    "\n",
    "\n",
    "def get_session_history(session_id: str) -> BaseChatMessageHistory:\n",
    "    if session_id not in store:\n",
    "        store[session_id] = ChatMessageHistory()\n",
    "    return store[session_id]\n",
    "\n",
    "\n",
    "conversational_rag_chain = RunnableWithMessageHistory(\n",
    "    retrieval_chain_combine,\n",
    "    get_session_history,\n",
    "    input_messages_key=\"input\",\n",
    "    history_messages_key=\"chat_history\",\n",
    "    output_messages_key=\"answer\",\n",
    ")"
   ]
  },
  {
   "cell_type": "markdown",
   "metadata": {},
   "source": [
    "#### testing"
   ]
  },
  {
   "cell_type": "code",
   "execution_count": null,
   "metadata": {},
   "outputs": [
    {
     "data": {
      "text/plain": [
       "'資料結構的評分方式如下：\\n- 期中考 Midterm Exam 40%\\n- 期末考 Term exam 25%\\n- 平時測驗 Quizzes 25%\\n- 出席 Participation 10%'"
      ]
     },
     "metadata": {},
     "output_type": "display_data"
    }
   ],
   "source": [
    "conversational_rag_chain.invoke(\n",
    "    {\"input\": \"資料結構的評分如何?\"},\n",
    "    config={\n",
    "        \"configurable\": {\"session_id\": \"abc123\"}\n",
    "    },  # constructs a key \"abc123\" in `store`.\n",
    ")[\"answer\"]"
   ]
  },
  {
   "cell_type": "code",
   "execution_count": null,
   "metadata": {},
   "outputs": [
    {
     "data": {
      "text/plain": [
       "'您剛剛問的是「資料結構」這門課程。'"
      ]
     },
     "metadata": {},
     "output_type": "display_data"
    }
   ],
   "source": [
    "conversational_rag_chain.invoke(\n",
    "    {\"input\": \"我剛剛是問哪一門課?\"},\n",
    "    config={\n",
    "        \"configurable\": {\"session_id\": \"abc123\"}\n",
    "    },  # constructs a key \"abc123\" in `store`.\n",
    ")[\"answer\"]"
   ]
  },
  {
   "cell_type": "code",
   "execution_count": 74,
   "metadata": {},
   "outputs": [
    {
     "data": {
      "text/plain": [
       "'您剛剛問的是「基本財務學」這門課。'"
      ]
     },
     "execution_count": 74,
     "metadata": {},
     "output_type": "execute_result"
    }
   ],
   "source": [
    "conversational_rag_chain.invoke(\n",
    "    {\"input\": \"我剛剛是問哪一門課?\"},\n",
    "    config={\n",
    "        \"configurable\": {\"session_id\": \"zxc123\"}\n",
    "    },  # constructs a key \"abc123\" in `store`.\n",
    ")[\"answer\"]"
   ]
  },
  {
   "cell_type": "code",
   "execution_count": null,
   "metadata": {},
   "outputs": [
    {
     "name": "stdout",
     "output_type": "stream",
     "text": [
      "{'abc123': InMemoryChatMessageHistory(messages=[HumanMessage(content='我問過哪些課程?'), AIMessage(content='您問過以下課程：\\n1. 工業與資訊管理專題（二）\\n2. 商事法\\n3. 計算機概論\\n4. 服務學習（一）'), HumanMessage(content='資料結構的評分如何?'), AIMessage(content='資料結構的評分方式如下：\\n- 期中考 Midterm Exam 40%\\n- 期末考 Term exam 25%\\n- 平時測驗 Quizzes 25%\\n- 出席 Participation 10%'), HumanMessage(content='我剛剛是問哪一門課?'), AIMessage(content='您剛剛問的是「資料結構」這門課程。')]), 'zxc123': InMemoryChatMessageHistory(messages=[HumanMessage(content='我剛剛是問哪一門課?'), AIMessage(content='您剛剛問的是「工業與資訊管理專題（二）」這門課。')])}\n"
     ]
    }
   ],
   "source": [
    "print(store)"
   ]
  },
  {
   "cell_type": "code",
   "execution_count": null,
   "metadata": {},
   "outputs": [
    {
     "name": "stdout",
     "output_type": "stream",
     "text": [
      "abc123\n",
      "zxc123\n"
     ]
    }
   ],
   "source": [
    "for user in store:\n",
    "    print(user)"
   ]
  },
  {
   "cell_type": "markdown",
   "metadata": {},
   "source": [
    "## LangGraph\n",
    "\n",
    "### Graph state"
   ]
  },
  {
   "cell_type": "code",
   "execution_count": 70,
   "metadata": {},
   "outputs": [],
   "source": [
    "class GraphState(TypedDict):\n",
    "    \"\"\"\n",
    "    State of graph.\n",
    "\n",
    "    Attributes:\n",
    "        question: question\n",
    "        generation: LLM generation\n",
    "        documents: list of documents\n",
    "    \"\"\"\n",
    "    question : str\n",
    "    generation : str\n",
    "    documents : List[str]\n",
    "    # chat_history: List[str]\n",
    "    session_id : int"
   ]
  },
  {
   "cell_type": "markdown",
   "metadata": {},
   "source": [
    "### Nodes / Conditional edges"
   ]
  },
  {
   "cell_type": "code",
   "execution_count": 65,
   "metadata": {},
   "outputs": [],
   "source": [
    "def retrieve(state):\n",
    "    \"\"\"\n",
    "    Retrieve documents related to the question.\n",
    "\n",
    "    Args:\n",
    "        state (dict):  The current state graph\n",
    "\n",
    "    Returns:\n",
    "        state (dict): New key added to state, documents, that contains list of related documents.\n",
    "    \"\"\"\n",
    "\n",
    "    print(\"---RETRIEVE---\")\n",
    "    question = state[\"question\"]\n",
    "    session_id = state[\"session_id\"]\n",
    "    # chat_history = state.get(\"chat_history\", [])\n",
    "\n",
    "\n",
    "    # Retrieval\n",
    "    user_chat_history = get_session_history(session_id)\n",
    "    documents = retriever_chain.invoke({\"input\": question,\n",
    "    \"chat_history\":user_chat_history})\n",
    "\n",
    "    return {\"documents\":documents, \"question\":question, \"chat_history\": chat_history}\n",
    "\n",
    "def web_search(state):\n",
    "    \"\"\"\n",
    "    Web search based on the re-phrased question.\n",
    "\n",
    "    Args:\n",
    "        state (dict): The current graph state\n",
    "\n",
    "    Returns:\n",
    "        state (dict): Updates documents key with appended web results\n",
    "    \"\"\"\n",
    "\n",
    "    print(\"---WEB SEARCH---\")\n",
    "    question = state[\"question\"]\n",
    "    chat_history = state[\"chat_history\"]\n",
    "    # documents = state[\"documents\"] if state[\"documents\"] else []\n",
    "\n",
    "    # Web search\n",
    "    docs = web_search_tool.invoke({\"query\": question})\n",
    "    web_results = [Document(page_content=d[\"content\"]) for d in docs]\n",
    "\n",
    "    documents = web_results\n",
    "\n",
    "    return {\"documents\": documents, \"question\": question, \"chat_history\":chat_history}\n",
    "\n",
    "def retrieval_grade(state):\n",
    "    \"\"\"\n",
    "    filter retrieved documents based on question.\n",
    "\n",
    "    Args:\n",
    "        state (dict):  The current state graph\n",
    "\n",
    "    Returns:\n",
    "        state (dict): New key added to state, documents, that contains list of related documents.\n",
    "    \"\"\"\n",
    "\n",
    "    # Grade documents\n",
    "    print(\"---CHECK DOCUMENT RELEVANCE TO QUESTION---\")\n",
    "\n",
    "    documents = state[\"documents\"]\n",
    "    question = state[\"question\"]\n",
    "    chat_history = state[\"chat_history\"]\n",
    "    session_id = state[\"session_id\"]\n",
    "\n",
    "    # Score each doc\n",
    "    filtered_docs = []\n",
    "    for d in documents:\n",
    "        score = retrieval_grader.invoke({\"question\": question, \"document\": d.page_content})\n",
    "        grade = score.binary_score\n",
    "        if grade == \"yes\":\n",
    "            print(\"  -GRADE: DOCUMENT RELEVANT-\")\n",
    "            filtered_docs.append(d)\n",
    "        else:\n",
    "            print(\"  -GRADE: DOCUMENT NOT RELEVANT-\")\n",
    "            continue\n",
    "    chat_history = state[\"chat_history\"]\n",
    "    return {\"documents\": filtered_docs, \"question\": question, \"chat_history\": chat_history}\n",
    "\n",
    "def rag_generate(state):\n",
    "    \"\"\"\n",
    "    Generate answer using  vectorstore / web search\n",
    "\n",
    "    Args:\n",
    "        state (dict): The current graph state\n",
    "\n",
    "    Returns:\n",
    "        state (dict): New key added to state, generation, that contains LLM generation\n",
    "    \"\"\"\n",
    "\n",
    "    print(\"---GENERATE IN RAG MODE---\")\n",
    "    question = state[\"question\"]\n",
    "    documents = state[\"documents\"]\n",
    "    chat_history = state[\"chat_history\"]\n",
    "\n",
    "\n",
    "    # RAG generation\n",
    "    # generation = rag_invoke(question, chat_history)\n",
    "    generation = retrieval_chain_combine.invoke({\"input\": question, \"chat_history\": chat_history})\n",
    "    return {\"documents\": documents, \"question\": question, \"generation\": generation, \"chat_history\": chat_history}\n",
    "\n",
    "# def plain_answer(state):\n",
    "#     \"\"\"\n",
    "#     Generate answer using the LLM without vectorstore.\n",
    "\n",
    "#     Args:\n",
    "#         state (dict): The current graph state\n",
    "\n",
    "#     Returns:\n",
    "#         state (dict): New key added to state, generation, that contains LLM generation\n",
    "#     \"\"\"\n",
    "\n",
    "#     print(\"---GENERATE PLAIN ANSWER---\")\n",
    "#     question = state[\"question\"]\n",
    "#     generation = llm_chain.invoke({\"question\": question})\n",
    "#     return {\"question\": question, \"generation\": generation}\n",
    "\n",
    "\n",
    "### Edges ###\n",
    "def route_question(state):\n",
    "    \"\"\"\n",
    "    Route question to web search or RAG.\n",
    "\n",
    "    Args:\n",
    "        state (dict): The current graph state\n",
    "\n",
    "    Returns:\n",
    "        str: Next node to call\n",
    "    \"\"\"\n",
    "\n",
    "    print(\"---ROUTE QUESTION---\")\n",
    "    question = state[\"question\"]\n",
    "    source = question_router.invoke({\"question\": question})\n",
    "\n",
    "    # Fallback to plain LLM or raise error if no decision\n",
    "    if \"tool_calls\" not in source.additional_kwargs:\n",
    "        print(\"  -ROUTE TO PLAIN LLM-\")\n",
    "        return \"plain_answer\"\n",
    "    if len(source.additional_kwargs[\"tool_calls\"]) == 0:\n",
    "      raise \"Router could not decide source\"\n",
    "\n",
    "    # Choose datasource\n",
    "    datasource = source.additional_kwargs[\"tool_calls\"][0][\"function\"][\"name\"]\n",
    "    if datasource == 'web_search':\n",
    "        print(\"  -ROUTE TO WEB SEARCH-\")\n",
    "        return \"web_search\"\n",
    "    elif datasource == 'vectorstore':\n",
    "        print(\"  -ROUTETO VECTORSTORE-\")\n",
    "        return \"vectorstore\"\n",
    "\n",
    "def route_retrieval(state):\n",
    "    \"\"\"\n",
    "    Determines whether to generate an answer, or use websearch.\n",
    "\n",
    "    Args:\n",
    "        state (dict): The current graph state\n",
    "\n",
    "    Returns:\n",
    "        str: Binary decision for next node to call\n",
    "    \"\"\"\n",
    "\n",
    "    print(\"---ROUTE RETRIEVAL---\")\n",
    "    filtered_documents = state[\"documents\"]\n",
    "\n",
    "    if not filtered_documents:\n",
    "        # All documents have been filtered check_relevance\n",
    "        print(\"  -DECISION: ALL DOCUMENTS ARE NOT RELEVANT TO QUESTION, ROUTE TO WEB SEARCH-\")\n",
    "        return \"web_search\"\n",
    "    else:\n",
    "        # We have relevant documents, so generate answer\n",
    "        print(\"  -DECISION: GENERATE WITH RAG LLM-\")\n",
    "        return \"rag_generate\"\n",
    "\n",
    "def grade_rag_generation(state):\n",
    "    \"\"\"\n",
    "    Determines whether the generation is grounded in the document and answers question.\n",
    "\n",
    "    Args:\n",
    "        state (dict): The current graph state\n",
    "\n",
    "    Returns:\n",
    "        str: Decision for next node to call\n",
    "    \"\"\"\n",
    "\n",
    "    print(\"---CHECK HALLUCINATIONS---\")\n",
    "    question = state[\"question\"]\n",
    "    documents = state[\"documents\"]\n",
    "    generation = state[\"generation\"]\n",
    "\n",
    "    score = hallucination_grader.invoke({\"documents\": documents, \"generation\": generation})\n",
    "    grade = score.binary_score\n",
    "\n",
    "    # Check hallucination\n",
    "    if grade == \"no\":\n",
    "        print(\"  -DECISION: GENERATION IS GROUNDED IN DOCUMENTS-\")\n",
    "        # Check question-answering\n",
    "        print(\"---GRADE GENERATION vs QUESTION---\")\n",
    "        score = answer_grader.invoke({\"question\": question,\"generation\": generation})\n",
    "        grade = score.binary_score\n",
    "        if grade == \"yes\":\n",
    "            print(\"  -DECISION: GENERATION ADDRESSES QUESTION-\")\n",
    "            return \"useful\"\n",
    "        else:\n",
    "            print(\"  -DECISION: GENERATION DOES NOT ADDRESS QUESTION-\")\n",
    "            return \"not useful\"\n",
    "    else:\n",
    "        print(\"  -DECISION: GENERATION IS NOT GROUNDED IN DOCUMENTS, RE-TRY-\")\n",
    "        return \"not supported\""
   ]
  },
  {
   "cell_type": "code",
   "execution_count": 50,
   "metadata": {},
   "outputs": [],
   "source": [
    "workflow = StateGraph(GraphState)\n",
    "\n",
    "# Define the nodes\n",
    "workflow.add_node(\"web_search\", web_search) # web search\n",
    "workflow.add_node(\"retrieve\", retrieve) # retrieve\n",
    "workflow.add_node(\"retrieval_grade\", retrieval_grade) # retrieval grade\n",
    "workflow.add_node(\"rag_generate\", rag_generate) # rag\n",
    "# workflow.add_node(\"plain_answer\", plain_answer) # llm\n",
    "\n",
    "# Build graph\n",
    "workflow.set_conditional_entry_point(\n",
    "    route_question,\n",
    "    {\n",
    "        \"web_search\": \"web_search\",\n",
    "        \"vectorstore\": \"retrieve\",\n",
    "        # \"plain_answer\": \"plain_answer\",\n",
    "    },\n",
    ")\n",
    "workflow.add_edge(\"retrieve\", \"retrieval_grade\")\n",
    "workflow.add_edge(\"web_search\", \"retrieval_grade\")\n",
    "workflow.add_conditional_edges(\n",
    "    \"retrieval_grade\",\n",
    "    route_retrieval,\n",
    "    {\n",
    "        \"web_search\": \"web_search\",\n",
    "        \"rag_generate\": \"rag_generate\",\n",
    "    },\n",
    ")\n",
    "workflow.add_conditional_edges(\n",
    "    \"rag_generate\",\n",
    "    grade_rag_generation,\n",
    "    {\n",
    "        \"not supported\": \"rag_generate\", # Hallucinations: re-generate\n",
    "        \"not useful\": \"web_search\", # Fails to answer question: fall-back to web-search\n",
    "        \"useful\": END,\n",
    "    },\n",
    ")\n",
    "# workflow.add_edge(\"plain_answer\", END)\n",
    "\n",
    "# Compile\n",
    "app = workflow.compile()"
   ]
  },
  {
   "cell_type": "code",
   "execution_count": 63,
   "metadata": {},
   "outputs": [],
   "source": [
    "def run(question, session_id):\n",
    "    inputs = {\"question\": question,\n",
    "              \"session_id\": session_id}\n",
    "    for output in app.stream(inputs):\n",
    "        print(\"\\n\")\n",
    "\n",
    "    # Final generation\n",
    "    if 'rag_generate' in output.keys():\n",
    "        print(output['rag_generate']['generation']['answer'])\n",
    "    elif 'plain_answer' in output.keys():\n",
    "        print(output['plain_answer']['generation'])"
   ]
  },
  {
   "cell_type": "code",
   "execution_count": 52,
   "metadata": {},
   "outputs": [
    {
     "name": "stdout",
     "output_type": "stream",
     "text": [
      "---ROUTE QUESTION---\n",
      "  -ROUTETO VECTORSTORE-\n",
      "---RETRIEVE---\n",
      "\n",
      "\n",
      "---CHECK DOCUMENT RELEVANCE TO QUESTION---\n",
      "  -GRADE: DOCUMENT RELEVANT-\n",
      "  -GRADE: DOCUMENT RELEVANT-\n",
      "  -GRADE: DOCUMENT RELEVANT-\n",
      "  -GRADE: DOCUMENT NOT RELEVANT-\n",
      "---ROUTE RETRIEVAL---\n",
      "  -DECISION: GENERATE WITH RAG LLM-\n",
      "\n",
      "\n",
      "---GENERATE IN RAG MODE---\n",
      "---CHECK HALLUCINATIONS---\n",
      "  -DECISION: GENERATION IS GROUNDED IN DOCUMENTS-\n",
      "---GRADE GENERATION vs QUESTION---\n",
      "  -DECISION: GENERATION ADDRESSES QUESTION-\n",
      "\n",
      "\n",
      "初級會計學的評分標準如下：\n",
      "- 期中考 Midterm Exam 佔30%\n",
      "- 期末考 Term exam 佔40%\n",
      "- 出席 Participation 佔10%\n",
      "- 作業 Assignments 佔20%\n"
     ]
    }
   ],
   "source": [
    "run(\"初級會計學的評分標準?\")"
   ]
  },
  {
   "cell_type": "code",
   "execution_count": 53,
   "metadata": {},
   "outputs": [
    {
     "data": {
      "text/plain": [
       "[Document(metadata={'source': '/Users/boruchen/Documents/langchain-practice/ncku_CoM_data.csv', 'row': 130}, page_content='Course Name: 作業研究\\nGrading: \\nDepartment: 工資系Industrial and Information Management\\nTeaching Strategies: \\nSyllabus Progress: \\nCourse Description: ■ 同步遠距教學主播學校  \\xa0\\xa0\\xa0\\xa0課程之收播學校與系所  \\xa0\\xa0\\xa0\\xa0校內系所：工業與資訊管理學系'),\n",
       " Document(metadata={'source': '/Users/boruchen/Documents/langchain-practice/ncku_CoM_data.csv', 'row': 142}, page_content='Course Name: 實驗設計導論\\nGrading: 出席 Participation\\t5\\n作業 Assignments\\t25\\n期中考 Midterm Exam\\t30\\n期末考 Term exam\\t40\\nDepartment: 工資系Industrial and Information Management\\nTeaching Strategies: 講授 Lecture\\t100\\nSyllabus Progress: \\nCourse Description: The knowledge of design of experiment is useful, if not essential, to anyone pursuing\\r\\ngraduate work in any of the engineering, management, physical science, or behavioral\\r\\nscience fields. Students who work on quality engineering and product (process) design\\r\\nshould also benefit from this course.The knowledge of design of experiment is useful, if not essential, to anyone pursuing graduate work in any of the engineering, management, physical science, or behavioral science fields. Students who work on quality ngineering and product (process) design should also benefit from this course.'),\n",
       " Document(metadata={'source': '/Users/boruchen/Documents/langchain-practice/ncku_CoM_data.csv', 'row': 76}, page_content='Course Name: 計算機概論\\nGrading: 其他 others:教師課堂公佈\\t100\\n其他 others:教師課堂公佈\\t100\\nDepartment: 統計系Statistics\\nTeaching Strategies: 講授 Lecture\\t40\\n其他:期中期末考試 others\\t20\\n其他:作業 others\\t20\\n其他:上機程式 others\\t20\\nSyllabus Progress: 1\\t簡介計算機與資訊網路\\n2\\t各種電腦裝置\\n3\\t資料儲存(1)\\n4\\t資料儲存(2)\\n5\\t資料處理(1)\\n6\\t資料處理(2)\\n7\\t作業系統\\n8\\t期中考\\n9\\t檔案系統(2)\\n10\\t網路通訊與網際網路\\n11\\t程式語言簡介\\n12\\tPython: Expressions\\n13\\tPython: Conditionals\\n14\\tPython: Functions\\n15\\tPython: Iterations\\n16\\tPython: Packages\\n17\\t期末考\\n18\\t期末專題報告\\nCourse Description: 認識資料處理結構、功能、電腦分類及比較、電腦發展史、數學系統、資料表示法、各種媒體介紹、各種輸出力機器介紹、記憶裝置及資料結構、各種語言介紹、程式流程圖及BASIC程式學習。Teaching and training university students with basic programming skills'),\n",
       " Document(metadata={'source': '/Users/boruchen/Documents/langchain-practice/ncku_CoM_data.csv', 'row': 102}, page_content='Course Name: 工業管理概論\\nGrading: 期中考 Midterm Exam\\t15\\n期末考 Term exam\\t35\\n小組報告 Group Projects\\t20\\n個人書面報告 Projects\\t30\\nDepartment: 工資系Industrial and Information Management\\nTeaching Strategies: 講授 Lecture\\t70\\n討論 Discussion\\t30\\nSyllabus Progress: \\nCourse Description: This course is designed to introduce the nature of industrial management, its dimensions and contemporary challenges to students. This course also explains the concepts of industrial management, discusses the processes, and summarizes the origins of contemporary management thought. This course is designed to introduce the nature of industrial management, its dimensions and contemporary challenges to students. This course also explains the concepts of industrial management, discusses the processes, and summarizes the origins of contemporary management thought.')]"
      ]
     },
     "execution_count": 53,
     "metadata": {},
     "output_type": "execute_result"
    }
   ],
   "source": [
    "retriever_chain.invoke({\"input\":\"工資系的作業研究課程概述\", \"chat_history\":chat_history})"
   ]
  },
  {
   "cell_type": "code",
   "execution_count": 54,
   "metadata": {},
   "outputs": [
    {
     "name": "stdout",
     "output_type": "stream",
     "text": [
      "---ROUTE QUESTION---\n",
      "  -ROUTETO VECTORSTORE-\n",
      "---RETRIEVE---\n",
      "\n",
      "\n",
      "---CHECK DOCUMENT RELEVANCE TO QUESTION---\n",
      "  -GRADE: DOCUMENT RELEVANT-\n",
      "  -GRADE: DOCUMENT RELEVANT-\n",
      "  -GRADE: DOCUMENT NOT RELEVANT-\n",
      "  -GRADE: DOCUMENT NOT RELEVANT-\n",
      "---ROUTE RETRIEVAL---\n",
      "  -DECISION: GENERATE WITH RAG LLM-\n",
      "\n",
      "\n",
      "---GENERATE IN RAG MODE---\n",
      "---CHECK HALLUCINATIONS---\n",
      "  -DECISION: GENERATION IS GROUNDED IN DOCUMENTS-\n",
      "---GRADE GENERATION vs QUESTION---\n",
      "  -DECISION: GENERATION ADDRESSES QUESTION-\n",
      "\n",
      "\n",
      "企業通訊網路這門課的評分方式如下：\n",
      "- 期中考 Midterm Exam 50%\n",
      "- 期末考 Term exam 25%\n",
      "- 平時測驗 Quizzes 20%\n",
      "- 其他 others: wiring 5%\n"
     ]
    }
   ],
   "source": [
    "run(\"工資系的企業通訊網路評分方式？\")"
   ]
  },
  {
   "cell_type": "code",
   "execution_count": 55,
   "metadata": {},
   "outputs": [
    {
     "name": "stdout",
     "output_type": "stream",
     "text": [
      "---ROUTE QUESTION---\n",
      "  -ROUTETO VECTORSTORE-\n",
      "---RETRIEVE---\n",
      "\n",
      "\n",
      "---CHECK DOCUMENT RELEVANCE TO QUESTION---\n",
      "  -GRADE: DOCUMENT NOT RELEVANT-\n",
      "  -GRADE: DOCUMENT RELEVANT-\n",
      "  -GRADE: DOCUMENT RELEVANT-\n",
      "  -GRADE: DOCUMENT NOT RELEVANT-\n",
      "---ROUTE RETRIEVAL---\n",
      "  -DECISION: GENERATE WITH RAG LLM-\n",
      "\n",
      "\n",
      "---GENERATE IN RAG MODE---\n",
      "---CHECK HALLUCINATIONS---\n",
      "  -DECISION: GENERATION IS GROUNDED IN DOCUMENTS-\n",
      "---GRADE GENERATION vs QUESTION---\n",
      "  -DECISION: GENERATION ADDRESSES QUESTION-\n",
      "\n",
      "\n",
      "工資系的線性代數評分方式如下：\n",
      "- 平時測驗（Quizzes）15%\n",
      "- 期中考（Midterm Exam）25%\n",
      "- 期末考（Term exam）25%\n",
      "- 作業（Assignments）35%\n"
     ]
    }
   ],
   "source": [
    "run(\"工資系的線性代數評分方式？\")"
   ]
  },
  {
   "cell_type": "code",
   "execution_count": 56,
   "metadata": {},
   "outputs": [
    {
     "name": "stdout",
     "output_type": "stream",
     "text": [
      "---ROUTE QUESTION---\n",
      "  -ROUTETO VECTORSTORE-\n",
      "---RETRIEVE---\n",
      "\n",
      "\n",
      "---CHECK DOCUMENT RELEVANCE TO QUESTION---\n",
      "  -GRADE: DOCUMENT RELEVANT-\n",
      "  -GRADE: DOCUMENT NOT RELEVANT-\n",
      "  -GRADE: DOCUMENT NOT RELEVANT-\n",
      "  -GRADE: DOCUMENT NOT RELEVANT-\n",
      "---ROUTE RETRIEVAL---\n",
      "  -DECISION: GENERATE WITH RAG LLM-\n",
      "\n",
      "\n",
      "---GENERATE IN RAG MODE---\n",
      "---CHECK HALLUCINATIONS---\n",
      "  -DECISION: GENERATION IS GROUNDED IN DOCUMENTS-\n",
      "---GRADE GENERATION vs QUESTION---\n",
      "  -DECISION: GENERATION ADDRESSES QUESTION-\n",
      "\n",
      "\n",
      "行銷管理課程的大綱如下：\n",
      "1. Introduction\n",
      "2. Ch1 - An overview of Marketing Management\n",
      "3. Ch1 - An overview of Marketing Management\n",
      "4. Ch2 - Company and Marketing Strategy\n",
      "5. Ch2 - Company and Marketing Strategy\n",
      "6. Ch3/4 - Analyzing the marketing environment and gain customer insights\n",
      "7. Time reserved for team brainstorming\n",
      "8. Ch5 - Understanding consumer and business buyer behavior\n",
      "9. Presentation I\n",
      "10. Ch6 - Creating value for target customers\n",
      "11. Ch8 - Developing new products and managing the product life cycle (optional)\n",
      "12. Ch10 - Marketing channels\n",
      "13. Ch12 - Engaging customers and communicating customer value\n",
      "14. Ch14 - Direct, online, social media, and mobile marketing\n",
      "15. Ch14 - Direct, online, social media, and mobile marketing\n",
      "16. Presentation II - Term project\n",
      "17. Ch16 - Sustainable marketing (optional)\n",
      "18. Final exam\n",
      "\n",
      "這門課程旨在介紹行銷管理的核心概念和任務，包括制定行銷策略和計劃、獲取行銷見解和績效、與客戶建立聯繫、建立強大品牌、塑造市場產品、提供價值和傳達價值。\n"
     ]
    }
   ],
   "source": [
    "run(\"行銷管理的課程大綱為何？\")"
   ]
  },
  {
   "cell_type": "code",
   "execution_count": 57,
   "metadata": {},
   "outputs": [
    {
     "name": "stdout",
     "output_type": "stream",
     "text": [
      "---ROUTE QUESTION---\n",
      "  -ROUTETO VECTORSTORE-\n",
      "---RETRIEVE---\n",
      "\n",
      "\n",
      "---CHECK DOCUMENT RELEVANCE TO QUESTION---\n",
      "  -GRADE: DOCUMENT RELEVANT-\n",
      "  -GRADE: DOCUMENT RELEVANT-\n",
      "  -GRADE: DOCUMENT RELEVANT-\n",
      "  -GRADE: DOCUMENT RELEVANT-\n",
      "---ROUTE RETRIEVAL---\n",
      "  -DECISION: GENERATE WITH RAG LLM-\n",
      "\n",
      "\n",
      "---GENERATE IN RAG MODE---\n",
      "---CHECK HALLUCINATIONS---\n",
      "  -DECISION: GENERATION IS GROUNDED IN DOCUMENTS-\n",
      "---GRADE GENERATION vs QUESTION---\n",
      "  -DECISION: GENERATION ADDRESSES QUESTION-\n",
      "\n",
      "\n",
      "以下是兩堂通識課甜度較高的課程：\n",
      "1. 課程名稱: A9-404 通識教育:變動世界之素養與技能\n",
      "   甜度: 9\n",
      "\n",
      "2. 課程名稱: A9-237 傾聽與對話:冰山理論奇幻之旅\n",
      "   甜度: 9\n"
     ]
    }
   ],
   "source": [
    "run('列出兩堂通識課甜度較高的課程')"
   ]
  }
 ],
 "metadata": {
  "kernelspec": {
   "display_name": "langchain-practice-N2Mm1uHF",
   "language": "python",
   "name": "python3"
  },
  "language_info": {
   "codemirror_mode": {
    "name": "ipython",
    "version": 3
   },
   "file_extension": ".py",
   "mimetype": "text/x-python",
   "name": "python",
   "nbconvert_exporter": "python",
   "pygments_lexer": "ipython3",
   "version": "3.11.2"
  }
 },
 "nbformat": 4,
 "nbformat_minor": 2
}
