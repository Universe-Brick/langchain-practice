{
 "cells": [
  {
   "cell_type": "code",
   "execution_count": 1,
   "metadata": {},
   "outputs": [],
   "source": [
    "from langchain_community.document_loaders import CSVLoader\n",
    "from langchain_text_splitters import CharacterTextSplitter\n",
    "from langchain_openai import OpenAIEmbeddings \n",
    "from langchain_community.vectorstores import FAISS\n",
    "from langchain_openai import ChatOpenAI \n",
    "from langchain.chains import ConversationalRetrievalChain\n"
   ]
  },
  {
   "cell_type": "code",
   "execution_count": 14,
   "metadata": {},
   "outputs": [],
   "source": [
    "# file_paths = [\n",
    "#     \"/Users/boruchen/Documents/langchain-practice/ncku_CoM_data.csv\",\n",
    "#     \"/Users/boruchen/Documents/langchain-practice/ncku_hub_data.csv\"\n",
    "# ]\n",
    "\n",
    "# all_documents = []\n",
    "\n",
    "# for file_path in file_paths:\n",
    "#     loader = CSVLoader(file_path=file_path)\n",
    "#     documents = loader.load()\n",
    "#     all_documents.extend(documents)  \n",
    "\n",
    "# text_splitter = CharacterTextSplitter(chunk_size=1000, chunk_overlap=0)\n",
    "\n",
    "# docs = text_splitter.split_documents(all_documents)\n",
    "\n",
    "embeddings_model = OpenAIEmbeddings(openai_api_key='key')\n",
    "\n",
    "# vectorstore = FAISS.from_documents(all_documents, embeddings_model)\n",
    "\n",
    "# vectorstore.save_local(\"faiss_index\")\n",
    "\n",
    "\n",
    "\n",
    "new_db = FAISS.load_local(\"faiss_index\", embeddings_model, allow_dangerous_deserialization=True)\n",
    "\n",
    "\n",
    "llm_model = ChatOpenAI(openai_api_key='key',temperature=0.7) \n",
    "\n",
    "# chain = ConversationalRetrievalChain.from_llm(llm=llm_model, retriever=new_db.as_retriever(search_kwargs={\"k\": 3, \"fetch_k\": 10}, search_type=\"mmr\"))\n",
    "chain = ConversationalRetrievalChain.from_llm(llm=llm_model, retriever=new_db.as_retriever())\n",
    "\n"
   ]
  },
  {
   "cell_type": "code",
   "execution_count": 29,
   "metadata": {},
   "outputs": [
    {
     "name": "stdout",
     "output_type": "stream",
     "text": [
      "{'question': '請列出會計系 : 初級會計學（一）的 grading', 'chat_history': [], 'answer': '期中考 Midterm Exam\\t30\\n期末考 Term exam\\t40\\n出席 Participation\\t10\\n作業 Assignments\\t20'}\n",
      "\n",
      "{'question': '請列出會計系 : 初級會計學（一）出席分數佔比', 'chat_history': [], 'answer': '初級會計學（一）出席佔總成績的10%。'}\n",
      "\n",
      "{'question': '會計系有什麼課程', 'chat_history': [], 'answer': '會計系的課程如下：\\n1. 公司治理與財務報導—國際會計與稅務專題研究\\n2. 高級會計學（二）\\n3. 公司理財\\n\\n這些課程涵蓋了公司治理、財務報導、會計審計、稅務等相關領域。'}\n",
      "\n"
     ]
    }
   ],
   "source": [
    "# query = \"請根據資料,列出甜度為6的課程\" \n",
    "query = \"請列出會計系 : 初級會計學（一）的 grading\"\n",
    "response = chain.invoke({\"question\": query, \"chat_history\": []}) \n",
    "print(response) \n",
    "print()\n",
    "\n",
    "query2 = \"請列出會計系 : 初級會計學（一）出席分數佔比\"\n",
    "response2 = chain.invoke({\"question\": query2, \"chat_history\": []}) \n",
    "print(response2) \n",
    "print()\n",
    "\n",
    "query3 = \"會計系有什麼課程\"\n",
    "response3 = chain.invoke({\"question\": query3, \"chat_history\": []}) \n",
    "print(response3)\n",
    "print()\n"
   ]
  },
  {
   "cell_type": "code",
   "execution_count": 23,
   "metadata": {},
   "outputs": [],
   "source": [
    "# 定義你的提示模板\n",
    "prompt = \"\"\"\n",
    "課程背景：所有系所所開設課程中，根據不同科目以及開課老師，會有不同的總分算法。\n",
    "問題：工資管系統計軟體與繪圖這門課中出席分數佔比多少？\n",
    "AI:佔比為10%\n",
    "\"\"\""
   ]
  },
  {
   "cell_type": "code",
   "execution_count": 54,
   "metadata": {},
   "outputs": [],
   "source": [
    "# 定義你的提示模板\n",
    "prompt = \"\"\"\n",
    "背景信息：在這個系統中，各個系所開設的課程都有不同的評分標準。根據科目和任課老師，課程的總分構成會有所不同。並且你是一位專業的課程推薦AI負責精準的回答同學的問題。以下是一些示例問題及答案：\n",
    "\n",
    "User:\n",
    "問題：工資管理系統中的「統計軟體與繪圖」這門課，出席分數佔比多少？\n",
    "AI：佔比為10%。\n",
    "\n",
    "\n",
    "User：電子工程系「信號處理」課程的期末考試佔比多少？\n",
    "AI：佔比為40%。\n",
    "\n",
    "\n",
    "User：商業管理系「市場營銷」課程的平時作業佔比多少？\n",
    "AI：佔比為30%。\n",
    "\n",
    "User: 工資管系計算機該論這門課中出席分數佔比多少？\n",
    "AI: 因為在我的資料庫中工資管系計算機該論這門課的課程大綱中並沒有描述出席分數的比重因此我無法回答你\n",
    "\n",
    "User: 生物統計這門課中出席分數佔比多少？\n",
    "課程背景：生物統計這門課中不包含出席分數\n",
    "AI: 這門課程中出席分數並不會影響總分\n",
    "\n",
    "User: 我想修有關機器學習的課程，請推薦一些適合我的課程?\n",
    "AI: 統計系所開設的的機器學習以及敏求智慧學院開設的的人工智慧導論都是有關機器學習的課程\n",
    "\n",
    "User: 工資系有什麼課程?\n",
    "AI: 工資系開設以下課程：統計學、計算機概論、資料結構等\n",
    "\n",
    "\n",
    "[指示]：根據上述背景信息和示例，回答以下問題：\n",
    "User：{你的問題}\n",
    "AI：\n",
    "\n",
    "\"\"\""
   ]
  },
  {
   "cell_type": "code",
   "execution_count": 55,
   "metadata": {},
   "outputs": [
    {
     "name": "stdout",
     "output_type": "stream",
     "text": [
      "{'question': '有關人工智慧的課', 'prompt': '請根據資料列出，有關人工智慧的課', 'chat_history': [], 'answer': '請問您需要哪方面的資訊呢？這裡有幾門與人工智慧相關的課程提供的相關資訊，包括課程名稱、分數配比、開課系所、教學策略、課程大綱和課程描述。如果您有特定的問題或需要更多細節，請告訴我，我會盡量幫助您。'}\n"
     ]
    }
   ],
   "source": [
    "# 定義你的提示模板\n",
    "prompt = \"\"\"The following are excerpts from conversations with an AI\n",
    "assistant. The assistant is typically concise , producing\n",
    "accurate responses to the users questions. Here are some\n",
    "examples: \n",
    "\n",
    "User: 工資管系統計軟體與繪圖這門課中出席分數佔比多少？\n",
    "AI: 工資管系統計軟體與繪圖這門課中出席分數佔比為20%\n",
    "\n",
    "User: 工資管系計算機該論這門課中出席分數佔比多少？\n",
    "AI: 因為在我的資料庫中工資管系計算機該論這門課的課程大綱中並沒有描述出席分數的比重因此我無法回答你\n",
    "\n",
    "User: 生物統計這門課中出席分數佔比多少？\n",
    "課程背景：生物統計這門課中不包含出席分數\n",
    "AI: 這門課程中出席分數並不會影響總分\n",
    "\n",
    "User: 我想修有關機器學習的課程\n",
    "AI: 統計系所開設的的機器學習以及敏求智慧學院開設的的人工智慧導論都是有關機器學習的課程符合你的需求\n",
    "\n",
    "User: 工資系有什麼課程?\n",
    "AI: 工資系開設以下課程：統計學、計算機概論、資料結構等\n",
    "\n",
    "User: 保險數學這門課中出席分數佔比多少？\n",
    "AI: \"\"\"\n",
    "#我想修有關人工智慧的課程，請推薦我哪些是適合的\n",
    "llm_model = ChatOpenAI(openai_api_key='key',temperature=0.7) \n",
    "chain = ConversationalRetrievalChain.from_llm(llm=llm_model, retriever=new_db.as_retriever())\n",
    "\n",
    "# 設置查詢和 prompt\n",
    "query = \"有關人工智慧的課\"\n",
    "prompt = \"請根據資料列出，\" + query\n",
    "\n",
    "# 調用鏈並顯示回應\n",
    "response = chain.invoke({\"question\": query, \"prompt\": prompt, \"chat_history\": []})\n",
    "print(response)\n",
    "\n"
   ]
  },
  {
   "cell_type": "code",
   "execution_count": 56,
   "metadata": {},
   "outputs": [
    {
     "name": "stdout",
     "output_type": "stream",
     "text": [
      "{'question': '這門課適合怎麼樣的人修？', 'prompt': '請根據資料列出，這門課適合怎麼樣的人修？', 'chat_history': [], 'answer': '這門課 \"服務學習（一）\" 適合那些有興趣參與校園認養區域的清潔與美化工作，以及對系所週邊和校園環境改善有興趣的人修讀。'}\n"
     ]
    }
   ],
   "source": [
    "query = \"這門課適合怎麼樣的人修？\"\n",
    "prompt = \"請根據資料列出，\" + query\n",
    "#沒有記錄歷史詢問的功能剛剛才問過人工智慧卻不記得\n",
    "# 調用鏈並顯示回應\n",
    "response = chain.invoke({\"question\": query, \"prompt\": prompt, \"chat_history\": []})\n",
    "print(response)"
   ]
  },
  {
   "cell_type": "code",
   "execution_count": 53,
   "metadata": {},
   "outputs": [
    {
     "name": "stdout",
     "output_type": "stream",
     "text": [
      "{'question': '想學習有關人工智慧的課程', 'prompt': '請根據資料列出，想學習有關人工智慧的課程', 'chat_history': [], 'answer': '您可以考慮修習\"人工智慧導論\"這門課程。這門課程涵蓋了人工智慧的基本概念和技術，並強調使用Java或Python等程式語言開發智能應用。此外，課程中的作業、期中考、個人書面報告和出席也將有助於您學習和加深對人工智慧的理解。'}\n"
     ]
    }
   ],
   "source": [
    "llm_model = ChatOpenAI(openai_api_key='key') \n",
    "chain = ConversationalRetrievalChain.from_llm(llm=llm_model, retriever=new_db.as_retriever())\n",
    "\n",
    "# 設置查詢和 prompt\n",
    "query = \"想學習有關人工智慧的課程\"\n",
    "prompt = \"請根據資料列出，\" + query\n",
    "\n",
    "# 調用鏈並顯示回應\n",
    "response = chain.invoke({\"question\": query, \"prompt\": prompt, \"chat_history\": []})\n",
    "print(response)"
   ]
  },
  {
   "cell_type": "code",
   "execution_count": 47,
   "metadata": {},
   "outputs": [
    {
     "name": "stdout",
     "output_type": "stream",
     "text": [
      "{'question': '請根據資料,列出甜度超過6的課程', 'chat_history': [], 'answer': '甜度超過6的課程有：\\n- A9-304 應用化學與實驗\\n- A9-305 應用化學與實驗\\n- A9-114 應用統計'}\n"
     ]
    }
   ],
   "source": [
    "query = \"請根據資料,列出甜度超過6的課程\" \n",
    "response = chain.invoke({\"question\": query, \"chat_history\": []}) \n",
    "print(response)"
   ]
  },
  {
   "cell_type": "code",
   "execution_count": 33,
   "metadata": {},
   "outputs": [
    {
     "name": "stdout",
     "output_type": "stream",
     "text": [
      "{'question': '請列出會計系 : 初級會計學（一）的 grading', 'chat_history': [], 'answer': '期中考 Midterm Exam: 30\\n期末考 Term exam: 40\\n出席 Participation: 10\\n作業 Assignments: 20'}\n",
      "\n",
      "{'question': '請列出會計系 : 初級會計學（一）出席分數佔比', 'chat_history': [], 'answer': '初級會計學（一）的出席分數佔比為10%。'}\n",
      "\n",
      "{'question': '會計系有什麼課程', 'chat_history': [], 'answer': '會計系的課程包括：公司治理與財務報導—國際會計與稅務專題研、高級會計學（二）、公司理財等。'}\n",
      "\n"
     ]
    }
   ],
   "source": [
    "# query = \"請根據資料,列出甜度為6的課程\" \n",
    "query = \"請列出會計系 : 初級會計學（一）的 grading\"\n",
    "response = chain.invoke({\"question\": query, \"chat_history\": []}) \n",
    "print(response) \n",
    "print()\n",
    "\n",
    "query2 = \"請列出會計系 : 初級會計學（一）出席分數佔比\"\n",
    "response2 = chain.invoke({ \"question\": query2,\"chat_history\": []}) \n",
    "print(response2) \n",
    "print()\n",
    "\n",
    "query3 = \"會計系有什麼課程\"\n",
    "response3 = chain.invoke({\"question\": query3, \"chat_history\": []}) \n",
    "print(response3)\n",
    "print()\n"
   ]
  }
 ],
 "metadata": {
  "kernelspec": {
   "display_name": "base",
   "language": "python",
   "name": "python3"
  },
  "language_info": {
   "codemirror_mode": {
    "name": "ipython",
    "version": 3
   },
   "file_extension": ".py",
   "mimetype": "text/x-python",
   "name": "python",
   "nbconvert_exporter": "python",
   "pygments_lexer": "ipython3",
   "version": "3.11.3"
  }
 },
 "nbformat": 4,
 "nbformat_minor": 2
}
