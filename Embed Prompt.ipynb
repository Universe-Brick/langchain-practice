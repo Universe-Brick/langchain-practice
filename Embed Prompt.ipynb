{
 "cells": [
  {
   "cell_type": "code",
   "execution_count": 1,
   "metadata": {},
   "outputs": [],
   "source": [
    "from langchain_openai import ChatOpenAI\n",
    "import openai\n",
    "from openai import OpenAI\n",
    "import re\n",
    "from langchain.text_splitter import RecursiveCharacterTextSplitter\n",
    "from langchain_openai import OpenAIEmbeddings\n",
    "from langchain.vectorstores import FAISS\n",
    "from langchain.schema import Document\n",
    "from langchain_community.llms import Ollama\n",
    "\n"
   ]
  },
  {
   "cell_type": "code",
   "execution_count": 2,
   "metadata": {},
   "outputs": [],
   "source": [
    "my_api_key = \"input key\"\n",
    "llm_from_openAI = ChatOpenAI(api_key = my_api_key)\n",
    "llm = Ollama(model=\"llama2\")\n",
    "embeddings = OpenAIEmbeddings(api_key = my_api_key)"
   ]
  },
  {
   "cell_type": "code",
   "execution_count": 3,
   "metadata": {},
   "outputs": [
    {
     "data": {
      "text/plain": [
       "AIMessage(content='是的，我能夠讀懂中文。有任何問題我可以幫忙嗎？', response_metadata={'token_usage': {'completion_tokens': 31, 'prompt_tokens': 20, 'total_tokens': 51}, 'model_name': 'gpt-3.5-turbo', 'system_fingerprint': None, 'finish_reason': 'stop', 'logprobs': None}, id='run-6b232cb6-673d-411d-9bd4-8f8cd9db3f48-0')"
      ]
     },
     "execution_count": 3,
     "metadata": {},
     "output_type": "execute_result"
    }
   ],
   "source": [
    "llm_from_openAI.invoke(\"你讀得懂中文嗎??\")"
   ]
  },
  {
   "cell_type": "code",
   "execution_count": null,
   "metadata": {},
   "outputs": [],
   "source": [
    "llm_from_openAI.invoke(\"how can langsmith help with testing?\")"
   ]
  },
  {
   "cell_type": "code",
   "execution_count": null,
   "metadata": {},
   "outputs": [],
   "source": [
    "llm.invoke(\"你讀得懂中文嗎?\")"
   ]
  },
  {
   "cell_type": "code",
   "execution_count": null,
   "metadata": {},
   "outputs": [],
   "source": [
    "llm.invoke(\"成功大學在哪?\")"
   ]
  },
  {
   "cell_type": "code",
   "execution_count": null,
   "metadata": {},
   "outputs": [],
   "source": [
    "from langchain_core.prompts import ChatPromptTemplate\n",
    "\n",
    "# Input template\n",
    "prompt = ChatPromptTemplate.from_messages([\n",
    "    (\"system\", \"You are a course recommendation system of NCKU.\"),\n",
    "    (\"user\", \"{input}\")\n",
    "])"
   ]
  },
  {
   "cell_type": "code",
   "execution_count": null,
   "metadata": {},
   "outputs": [],
   "source": [
    "from langchain_core.output_parsers import StrOutputParser\n",
    "\n",
    "# 提供 output 轉換成 string type\n",
    "output_parser = StrOutputParser()"
   ]
  },
  {
   "cell_type": "code",
   "execution_count": null,
   "metadata": {},
   "outputs": [],
   "source": [
    "chain = prompt | llm | output_parser\n",
    "chain_OpenAI = prompt | llm_from_openAI | output_parser"
   ]
  },
  {
   "cell_type": "code",
   "execution_count": null,
   "metadata": {},
   "outputs": [],
   "source": [
    "import pandas as pd\n",
    "from langchain_community.document_loaders import JSONLoader\n",
    "import json\n",
    "from pathlib import Path\n",
    "from pprint import pprint\n",
    "\n",
    "\n",
    "file_path='/Users/linchihhsien/Documents/Arduino/爬蟲/langchain-practice/courses_data.json'\n",
    "#file_path='/Users/linchihhsien/Documents/Arduino/爬蟲/langchain-practice'\n",
    "data = json.loads(Path(file_path).read_text())"
   ]
  },
  {
   "cell_type": "code",
   "execution_count": null,
   "metadata": {},
   "outputs": [],
   "source": [
    "pprint(Path(file_path).read_text())"
   ]
  },
  {
   "cell_type": "code",
   "execution_count": null,
   "metadata": {},
   "outputs": [],
   "source": [
    "from langchain_community.vectorstores import FAISS\n",
    "from langchain_text_splitters import RecursiveCharacterTextSplitter\n",
    "\n",
    "client = OpenAI(api_key=my_api_key)"
   ]
  },
  {
   "cell_type": "code",
   "execution_count": null,
   "metadata": {},
   "outputs": [],
   "source": [
    "split_text = []\n",
    "full_texts = []  # List to store all combined texts\n",
    "for course in data:\n",
    "    text_blocks = [\n",
    "        course['Course Name'],\n",
    "        course['Grading'],\n",
    "        course['Department'],\n",
    "        course['Teaching Strategies'],\n",
    "        course['Syllabus Progress'],\n",
    "        course['Course Description']\n",
    "    ]\n",
    "\n",
    "    split_text.append(text_blocks)\n",
    "    full_text = \"\\n\".join(text_blocks)\n",
    "    full_texts.append(full_text)  # Add the combined text to the list\n",
    "\n",
    "# Now full_texts contains all the combined text blocks\n",
    "for text in full_texts:\n",
    "    print(text)  # This will print all combined texts after the loop"
   ]
  },
  {
   "cell_type": "code",
   "execution_count": null,
   "metadata": {},
   "outputs": [],
   "source": [
    "print(full_texts)"
   ]
  },
  {
   "cell_type": "code",
   "execution_count": null,
   "metadata": {},
   "outputs": [],
   "source": [
    "text_splitter = RecursiveCharacterTextSplitter()\n",
    "\n",
    "documents = text_splitter.create_documents(full_texts)\n",
    "for i in range(5):\n",
    "    print(documents[i])\n"
   ]
  },
  {
   "cell_type": "code",
   "execution_count": null,
   "metadata": {},
   "outputs": [],
   "source": [
    "import pandas as pd\n",
    "\n",
    "# 读取CSV文件\n",
    "df = pd.read_csv('courseScore.csv')\n",
    "\n",
    "# 显示数据以确认读取成功\n",
    "print(df.head())"
   ]
  },
  {
   "cell_type": "code",
   "execution_count": null,
   "metadata": {},
   "outputs": [],
   "source": [
    "vector = FAISS.from_documents(documents, embeddings)"
   ]
  },
  {
   "cell_type": "code",
   "execution_count": 5,
   "metadata": {},
   "outputs": [
    {
     "name": "stdout",
     "output_type": "stream",
     "text": [
      "content='9更大。' response_metadata={'token_usage': {'completion_tokens': 4, 'prompt_tokens': 14, 'total_tokens': 18}, 'model_name': 'gpt-3.5-turbo', 'system_fingerprint': None, 'finish_reason': 'stop', 'logprobs': None} id='run-4be1017f-1c15-4722-bfb2-4b75bddec27e-0'\n"
     ]
    }
   ],
   "source": [
    "\n",
    "response = llm_from_openAI.invoke(\"8,9誰大？\")\n",
    "print(response)"
   ]
  },
  {
   "cell_type": "code",
   "execution_count": null,
   "metadata": {},
   "outputs": [],
   "source": [
    "chain.invoke(\"你可以推薦一些成大管理學相關的課程嗎？\")#不能跑"
   ]
  },
  {
   "cell_type": "code",
   "execution_count": null,
   "metadata": {},
   "outputs": [],
   "source": [
    "chain_OpenAI.invoke(\"你可以推薦一些成大管理學相關的課程嗎？\")#不能跑"
   ]
  },
  {
   "cell_type": "code",
   "execution_count": null,
   "metadata": {},
   "outputs": [],
   "source": [
    "from langchain.chains import create_retrieval_chain\n",
    "\n",
    "retriever = vector.as_retriever()\n",
    "retrieval_chain = create_retrieval_chain(retriever, chain)\n",
    "retrieval_chain_OpenAI = create_retrieval_chain(retriever, chain_OpenAI)"
   ]
  },
  {
   "cell_type": "code",
   "execution_count": null,
   "metadata": {},
   "outputs": [],
   "source": [
    "retrieval_chain.invoke({\"input\": \"你可以推薦一些成大管理學相關的課程嗎？\"})"
   ]
  },
  {
   "cell_type": "code",
   "execution_count": null,
   "metadata": {},
   "outputs": [],
   "source": [
    "answer = retrieval_chain_OpenAI.invoke({\"input\": \"你可以推薦一些成大管理學相關的課程嗎？\"})"
   ]
  },
  {
   "cell_type": "code",
   "execution_count": null,
   "metadata": {},
   "outputs": [],
   "source": [
    "print(answer['answer'])\n",
    "for context in answer['context']:\n",
    "    print(context)"
   ]
  },
  {
   "cell_type": "code",
   "execution_count": null,
   "metadata": {},
   "outputs": [],
   "source": [
    "answer2 = retrieval_chain_OpenAI.invoke({'input': \"你可以跟我介紹工資係的管理學課的課程評分方式嗎？\"})"
   ]
  },
  {
   "cell_type": "code",
   "execution_count": null,
   "metadata": {},
   "outputs": [],
   "source": [
    "print(answer2['answer'])\n",
    "for context in answer['context']:\n",
    "    print(context)"
   ]
  },
  {
   "cell_type": "code",
   "execution_count": null,
   "metadata": {},
   "outputs": [],
   "source": [
    "# 定義你的提示模板\n",
    "prompt = \"\"\"\n",
    "課程背景：管理學院中所有系所所開設課程中，出席情況通常會在一定的比例下影響總分。\n",
    "問題：工資管系統計軟體與繪圖這門課中出席分數佔比多少？\n",
    "\"\"\"\n",
    "\n",
    "# 使用提示模板來調用 AI 系統以獲取回應\n",
    "answer = retrieval_chain_OpenAI.invoke({'input': prompt})\n",
    "\n",
    "# 印出答案及任何額外的背景信息\n",
    "print(answer['answer'])\n",
    "for context in answer['context']:\n",
    "    print(context)\n"
   ]
  },
  {
   "cell_type": "code",
   "execution_count": null,
   "metadata": {},
   "outputs": [],
   "source": [
    "prompt = \"\"\"The following are excerpts from conversations with an AI\n",
    "assistant. The assistant is typically concise and Accurate, producing\n",
    "accurate responses to the users questions. Here are some\n",
    "examples: \n",
    "\n",
    "User: 工資管系統計軟體與繪圖這門課中出席分數佔比多少？\n",
    "AI: 工資管系統計軟體與繪圖這門課中出席分數佔比為20%\n",
    "\n",
    "User: 工資管系計算機該論這門課中出席分數佔比多少？\n",
    "AI: 因為在我的資料庫中工資管系計算機該論這門課的課程大綱中並沒有描述出席分數的比重因此我無法回答你\n",
    "\n",
    "User: 生物統計這門課中出席分數佔比多少？\n",
    "課程背景：生物統計這門課中不包含出席分數\n",
    "AI: 這門課程中出席分數並不會影響總分\n",
    "\n",
    "User: 保險數學這門課中出席分數佔比多少？\n",
    "AI: \"\"\"\n",
    "\n",
    "# 使用提示模板來調用 AI 系統以獲取回應\n",
    "answer = retrieval_chain_OpenAI.invoke({'input': prompt})\n",
    "\n",
    "# 印出答案及任何額外的背景信息\n",
    "print(answer['answer'])\n",
    "for context in answer['context']:\n",
    "    print(context)\n"
   ]
  }
 ],
 "metadata": {
  "kernelspec": {
   "display_name": "linchihhsien-pejDPtXM",
   "language": "python",
   "name": "python3"
  },
  "language_info": {
   "codemirror_mode": {
    "name": "ipython",
    "version": 3
   },
   "file_extension": ".py",
   "mimetype": "text/x-python",
   "name": "python",
   "nbconvert_exporter": "python",
   "pygments_lexer": "ipython3",
   "version": "3.11.3"
  }
 },
 "nbformat": 4,
 "nbformat_minor": 2
}
